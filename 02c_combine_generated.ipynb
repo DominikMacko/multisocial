{
 "cells": [
  {
   "cell_type": "code",
   "execution_count": 2,
   "id": "e64abf71-8868-4100-b6a3-3ee8ca9d2a45",
   "metadata": {},
   "outputs": [],
   "source": [
    "datapath = \"./dataset/\" #path to the dataset folder"
   ]
  },
  {
   "cell_type": "code",
   "execution_count": 3,
   "id": "c11490de-5a9e-4907-8d67-8b671519dd18",
   "metadata": {},
   "outputs": [],
   "source": [
    "import pandas as pd\n",
    "import regex\n",
    "from polyglot.text import Text, Word\n",
    "from tqdm import tqdm"
   ]
  },
  {
   "cell_type": "code",
   "execution_count": null,
   "id": "8c967e51-d359-441f-8c8d-233c3d4301d2",
   "metadata": {},
   "outputs": [],
   "source": [
    "multisocial = pd.read_csv(datapath + f'multisocial.csv.gz', lineterminator='\\n')"
   ]
  },
  {
   "cell_type": "code",
   "execution_count": null,
   "id": "84d57cd3-86bf-4240-a576-7d0436d8cb5f",
   "metadata": {},
   "outputs": [],
   "source": [
    "models = ['vicuna-13b', 'aya-101', 'v5-Eagle-7B-HF', 'Mistral-7B-Instruct-v0.2', 'opt-iml-max-30b', 'gpt-3.5-turbo-0125', 'gemini']#, 'Llama-2-70b-chat-hf']\n",
    "datasets = {}\n",
    "\n",
    "for model in models:\n",
    "  temp = pd.read_csv(datapath + f'multisocial_{model}_paraphrased_{model}_paraphrased_{model}.csv.gz', lineterminator='\\n')\n",
    "  temp.fillna(\"\", inplace=True)\n",
    "  temp['text'] = multisocial['text']\n",
    "  temp.to_csv(f'multisocial_3x_{model}.csv.gz')\n",
    "  datasets[model] = temp"
   ]
  },
  {
   "cell_type": "code",
   "execution_count": null,
   "id": "df01e1dd-40a8-45d6-8d9a-d43903f04bf6",
   "metadata": {},
   "outputs": [
    {
     "data": {
      "text/html": [
       "<div>\n",
       "<style scoped>\n",
       "    .dataframe tbody tr th:only-of-type {\n",
       "        vertical-align: middle;\n",
       "    }\n",
       "\n",
       "    .dataframe tbody tr th {\n",
       "        vertical-align: top;\n",
       "    }\n",
       "\n",
       "    .dataframe thead th {\n",
       "        text-align: right;\n",
       "    }\n",
       "</style>\n",
       "<table border=\"1\" class=\"dataframe\">\n",
       "  <thead>\n",
       "    <tr style=\"text-align: right;\">\n",
       "      <th></th>\n",
       "      <th>text</th>\n",
       "      <th>label</th>\n",
       "      <th>length</th>\n",
       "      <th>source</th>\n",
       "      <th>language</th>\n",
       "      <th>domain</th>\n",
       "      <th>topic</th>\n",
       "      <th>split</th>\n",
       "    </tr>\n",
       "  </thead>\n",
       "  <tbody>\n",
       "  </tbody>\n",
       "</table>\n",
       "</div>"
      ],
      "text/plain": [
       "Empty DataFrame\n",
       "Columns: [text, label, length, source, language, domain, topic, split]\n",
       "Index: []"
      ]
     },
     "execution_count": 94,
     "metadata": {},
     "output_type": "execute_result"
    }
   ],
   "source": [
    "#check for any duplicates in human data\n",
    "multisocial[multisocial.text.duplicated(keep=False)]"
   ]
  },
  {
   "cell_type": "code",
   "execution_count": null,
   "id": "b457d24c-e92b-4753-a054-8aca6bad137d",
   "metadata": {},
   "outputs": [],
   "source": [
    "#remove whitespaces around texts\n",
    "def clear_dataset(df):\n",
    "  df_string_columns = df.select_dtypes(['object'])\n",
    "  df[df_string_columns.columns] = df_string_columns.apply(lambda x: x.str.strip())\n",
    "  return df\n",
    "\n",
    "#remove some unicode chars making problems in polyglot\n",
    "#https://github.com/aboSamoor/polyglot/issues/71#issuecomment-707997790\n",
    "def remove_bad_chars(text):\n",
    "  RE_BAD_CHARS = regex.compile(r\"[\\p{Cc}\\p{Cs}]+\")\n",
    "  return RE_BAD_CHARS.sub(\"\", text)\n",
    "\n",
    "#shorten generated texts\n",
    "def shorten_text(row, index):\n",
    "  human = str(row.generated).strip()\n",
    "  if (human == ''):\n",
    "    return human\n",
    "  human_words = Text(human, hint_language_code=row.language).words\n",
    "  human_length = len(human_words)\n",
    "\n",
    "  while ((human_length > 200)): #remove last word if text longer than 200 words\n",
    "    human = human[:-len(str(human_words[-1]))].strip()\n",
    "    human_words = human_words[:-1]\n",
    "    human_length = len(human_words)\n",
    "  return human\n",
    "\n",
    "#unify dataset form\n",
    "def unify_form(dataset, model):\n",
    "  dataset = clear_dataset(dataset)\n",
    "  dataset['label'] = model\n",
    "  dataset['text'] = dataset['generated']\n",
    "  dataset['length'] = [len(x.split()) if (y != 'zh') or (x == '') else len(Text(x, hint_language_code=y).words) for (x, y) in zip(dataset.text, dataset.language)]\n",
    "  dataset['source'] = [f'multisocial_{x}' for x in dataset.source]\n",
    "  return dataset\n",
    "\n",
    "#uniqueness/repetitiveness - get number of unique sentences in row.text\n",
    "def unique_sentences(row):\n",
    "  if row.text == '':\n",
    "    return 0\n",
    "  sentences = Text(row.text, hint_language_code=row.language).sentences\n",
    "  return len(set(sentences)) / len(sentences)\n",
    "\n",
    "#uniqueness/repetitiveness - get number of unique words in row.text\n",
    "def unique_words(row):\n",
    "  if row.text == '':\n",
    "    return 0\n",
    "  words = Text(row.text, hint_language_code=row.language).words\n",
    "  return len(set(words)) / len(words)"
   ]
  },
  {
   "cell_type": "code",
   "execution_count": null,
   "id": "762dbd24-9800-463a-84c6-03a6c9aa030e",
   "metadata": {},
   "outputs": [
    {
     "name": "stdout",
     "output_type": "stream",
     "text": [
      "Processing vicuna-13b\n"
     ]
    },
    {
     "name": "stderr",
     "output_type": "stream",
     "text": [
      "100%|███████████████████████████████████████████████████████████████████████████| 61592/61592 [00:07<00:00, 8292.73it/s]\n",
      "61592it [00:06, 9445.37it/s]\n",
      "61592it [00:07, 8061.28it/s]\n"
     ]
    },
    {
     "name": "stdout",
     "output_type": "stream",
     "text": [
      "Processing aya-101\n"
     ]
    },
    {
     "name": "stderr",
     "output_type": "stream",
     "text": [
      "100%|███████████████████████████████████████████████████████████████████████████| 61592/61592 [00:11<00:00, 5351.54it/s]\n",
      "61592it [00:06, 9215.78it/s] \n",
      "61592it [00:07, 8379.50it/s]\n"
     ]
    },
    {
     "name": "stdout",
     "output_type": "stream",
     "text": [
      "Processing v5-Eagle-7B-HF\n"
     ]
    },
    {
     "name": "stderr",
     "output_type": "stream",
     "text": [
      "100%|███████████████████████████████████████████████████████████████████████████| 61592/61592 [00:08<00:00, 7439.65it/s]\n",
      "61592it [00:06, 9066.17it/s]\n",
      "61592it [00:08, 7574.23it/s]\n"
     ]
    },
    {
     "name": "stdout",
     "output_type": "stream",
     "text": [
      "Processing Mistral-7B-Instruct-v0.2\n"
     ]
    },
    {
     "name": "stderr",
     "output_type": "stream",
     "text": [
      "100%|███████████████████████████████████████████████████████████████████████████| 61592/61592 [00:08<00:00, 7500.32it/s]\n",
      "61592it [00:06, 9174.98it/s]\n",
      "61592it [00:07, 7932.89it/s]\n"
     ]
    },
    {
     "name": "stdout",
     "output_type": "stream",
     "text": [
      "Processing opt-iml-max-30b\n"
     ]
    },
    {
     "name": "stderr",
     "output_type": "stream",
     "text": [
      "100%|██████████████████████████████████████████████████████████████████████████| 61592/61592 [00:06<00:00, 10115.83it/s]\n",
      "61592it [00:06, 9861.52it/s] \n",
      "61592it [00:06, 9744.23it/s] \n"
     ]
    },
    {
     "name": "stdout",
     "output_type": "stream",
     "text": [
      "Processing gpt-3.5-turbo-0125\n"
     ]
    },
    {
     "name": "stderr",
     "output_type": "stream",
     "text": [
      "100%|███████████████████████████████████████████████████████████████████████████| 61592/61592 [00:07<00:00, 8587.34it/s]\n",
      "61592it [00:06, 9103.77it/s]\n",
      "61592it [00:07, 8028.57it/s]\n"
     ]
    },
    {
     "name": "stdout",
     "output_type": "stream",
     "text": [
      "Processing gemini\n"
     ]
    },
    {
     "name": "stderr",
     "output_type": "stream",
     "text": [
      "100%|█████████████████████████████████████████████████████████████████████████████| 61592/61592 [35:09<00:00, 29.19it/s]\n",
      "61592it [00:09, 6563.67it/s]\n",
      "61592it [00:14, 4350.81it/s]\n"
     ]
    },
    {
     "name": "stdout",
     "output_type": "stream",
     "text": [
      "CPU times: user 37min 27s, sys: 29.5 s, total: 37min 56s\n",
      "Wall time: 37min 53s\n"
     ]
    }
   ],
   "source": [
    "%%time\n",
    "stat = {}\n",
    "for model, dataset in datasets.items():\n",
    "  print(f'Processing {model}')\n",
    "\n",
    "  dataset['generated'] = dataset['generated'].apply(lambda x: remove_bad_chars(x))\n",
    "  dataset['generated'] = [shorten_text(row, index) for index, row in tqdm(dataset.iterrows(), total=len(dataset))]\n",
    "  empty_generation = len(dataset[(dataset.generated == '') | (dataset.generated == 'nan') | dataset.generated.isna()])\n",
    "\n",
    "  dataset = unify_form(dataset, model)\n",
    "\n",
    "  shorts = len(dataset[dataset.length < 2])\n",
    "  duplicates = len(dataset[dataset.text.duplicated(keep=False)])\n",
    "\n",
    "  dataset['unique_sentences'] = [unique_sentences(row) for index, row in tqdm(dataset.iterrows())]\n",
    "  dataset['unique_words'] = [unique_words(row) for index, row in tqdm(dataset.iterrows())]\n",
    "\n",
    "  stat[model] = {'empty_generation': empty_generation, 'short_texts': shorts, 'duplicates': duplicates, 'wordcount_mean': dataset.length.mean(), 'wordcount_std': dataset.length.std(), 'unique_sentences_mean': dataset.unique_sentences.mean(), 'unique_sentences_std': dataset.unique_sentences.std(), 'unique_words_mean': dataset.unique_words.mean(), 'unique_words_std': dataset.unique_words.std()}\n",
    "  multisocial = pd.concat([multisocial, dataset], ignore_index=True, copy=False)"
   ]
  },
  {
   "cell_type": "code",
   "execution_count": null,
   "id": "174f5e98-7028-4c1a-8c71-949424eb8f2f",
   "metadata": {},
   "outputs": [
    {
     "data": {
      "text/plain": [
       "human                       61592\n",
       "vicuna-13b                  61592\n",
       "aya-101                     61592\n",
       "v5-Eagle-7B-HF              61592\n",
       "Mistral-7B-Instruct-v0.2    61592\n",
       "opt-iml-max-30b             61592\n",
       "gpt-3.5-turbo-0125          61592\n",
       "gemini                      61592\n",
       "Name: label, dtype: int64"
      ]
     },
     "execution_count": 97,
     "metadata": {},
     "output_type": "execute_result"
    }
   ],
   "source": [
    "multisocial.label.value_counts()"
   ]
  },
  {
   "cell_type": "code",
   "execution_count": null,
   "id": "baa6e76c-f851-41fd-b4e2-a753d886db7a",
   "metadata": {},
   "outputs": [
    {
     "data": {
      "text/plain": [
       "opt-iml-max-30b    37\n",
       "aya-101            16\n",
       "Name: label, dtype: int64"
      ]
     },
     "execution_count": 98,
     "metadata": {},
     "output_type": "execute_result"
    }
   ],
   "source": [
    "#are instruction-based prompts removed? it's ok\n",
    "multisocial[multisocial.text.str.contains('You are a helpful assistent.')].label.value_counts()"
   ]
  },
  {
   "cell_type": "code",
   "execution_count": null,
   "id": "f8efa7ee-fc12-4855-9ca5-4ae6d292ab30",
   "metadata": {},
   "outputs": [
    {
     "data": {
      "text/plain": [
       "v5-Eagle-7B-HF              562\n",
       "opt-iml-max-30b             434\n",
       "gpt-3.5-turbo-0125          328\n",
       "aya-101                     258\n",
       "Mistral-7B-Instruct-v0.2    100\n",
       "vicuna-13b                   50\n",
       "gemini                       14\n",
       "human                         2\n",
       "Name: label, dtype: int64"
      ]
     },
     "execution_count": 99,
     "metadata": {},
     "output_type": "execute_result"
    }
   ],
   "source": [
    "multisocial[multisocial.text.str.lower().str.contains('assistent')].label.value_counts()"
   ]
  },
  {
   "cell_type": "code",
   "execution_count": null,
   "id": "1edb01bd-6b39-4eea-95ac-ffdaf7779f4d",
   "metadata": {},
   "outputs": [
    {
     "data": {
      "text/plain": [
       "gemini                      71\n",
       "v5-Eagle-7B-HF              45\n",
       "Mistral-7B-Instruct-v0.2    31\n",
       "gpt-3.5-turbo-0125          15\n",
       "vicuna-13b                  11\n",
       "human                        2\n",
       "opt-iml-max-30b              2\n",
       "Name: label, dtype: int64"
      ]
     },
     "execution_count": 100,
     "metadata": {},
     "output_type": "execute_result"
    }
   ],
   "source": [
    "multisocial[multisocial.text.str.lower().str.contains('instruction')].label.value_counts()"
   ]
  },
  {
   "cell_type": "code",
   "execution_count": null,
   "id": "a2d5556f-6cf9-4c19-85bb-c73e22535b77",
   "metadata": {},
   "outputs": [
    {
     "data": {
      "text/plain": [
       "gemini                      176\n",
       "v5-Eagle-7B-HF              146\n",
       "Mistral-7B-Instruct-v0.2    116\n",
       "vicuna-13b                   65\n",
       "gpt-3.5-turbo-0125           54\n",
       "human                        30\n",
       "opt-iml-max-30b              30\n",
       "aya-101                      29\n",
       "Name: label, dtype: int64"
      ]
     },
     "execution_count": 101,
     "metadata": {},
     "output_type": "execute_result"
    }
   ],
   "source": [
    "multisocial[multisocial.text.str.lower().str.contains('task')].label.value_counts()"
   ]
  },
  {
   "cell_type": "code",
   "execution_count": null,
   "id": "31a5c726-877f-4980-b165-bdc9205ef5b9",
   "metadata": {},
   "outputs": [
    {
     "data": {
      "text/plain": [
       "gemini                      367\n",
       "v5-Eagle-7B-HF              190\n",
       "Mistral-7B-Instruct-v0.2     11\n",
       "aya-101                       5\n",
       "opt-iml-max-30b               5\n",
       "vicuna-13b                    2\n",
       "Name: label, dtype: int64"
      ]
     },
     "execution_count": 102,
     "metadata": {},
     "output_type": "execute_result"
    }
   ],
   "source": [
    "multisocial[multisocial.text.str.lower().str.contains('social media text')].label.value_counts()"
   ]
  },
  {
   "cell_type": "code",
   "execution_count": null,
   "id": "db35859e-5be0-4cdd-a11e-3ec7b8c47eb3",
   "metadata": {},
   "outputs": [
    {
     "data": {
      "text/html": [
       "<div>\n",
       "<style scoped>\n",
       "    .dataframe tbody tr th:only-of-type {\n",
       "        vertical-align: middle;\n",
       "    }\n",
       "\n",
       "    .dataframe tbody tr th {\n",
       "        vertical-align: top;\n",
       "    }\n",
       "\n",
       "    .dataframe thead th {\n",
       "        text-align: right;\n",
       "    }\n",
       "</style>\n",
       "<table border=\"1\" class=\"dataframe\">\n",
       "  <thead>\n",
       "    <tr style=\"text-align: right;\">\n",
       "      <th></th>\n",
       "      <th>empty_generation</th>\n",
       "      <th>short_texts</th>\n",
       "      <th>duplicates</th>\n",
       "      <th>wordcount_mean</th>\n",
       "      <th>wordcount_std</th>\n",
       "      <th>unique_sentences_mean</th>\n",
       "      <th>unique_sentences_std</th>\n",
       "      <th>unique_words_mean</th>\n",
       "      <th>unique_words_std</th>\n",
       "    </tr>\n",
       "  </thead>\n",
       "  <tbody>\n",
       "    <tr>\n",
       "      <th>vicuna-13b</th>\n",
       "      <td>194.00</td>\n",
       "      <td>550.00</td>\n",
       "      <td>408.00</td>\n",
       "      <td>17.46</td>\n",
       "      <td>14.70</td>\n",
       "      <td>1.00</td>\n",
       "      <td>0.06</td>\n",
       "      <td>0.91</td>\n",
       "      <td>0.12</td>\n",
       "    </tr>\n",
       "    <tr>\n",
       "      <th>aya-101</th>\n",
       "      <td>1,558.00</td>\n",
       "      <td>1,821.00</td>\n",
       "      <td>2,108.00</td>\n",
       "      <td>11.86</td>\n",
       "      <td>12.92</td>\n",
       "      <td>0.97</td>\n",
       "      <td>0.16</td>\n",
       "      <td>0.90</td>\n",
       "      <td>0.19</td>\n",
       "    </tr>\n",
       "    <tr>\n",
       "      <th>v5-Eagle-7B-HF</th>\n",
       "      <td>15.00</td>\n",
       "      <td>287.00</td>\n",
       "      <td>28.00</td>\n",
       "      <td>22.13</td>\n",
       "      <td>17.17</td>\n",
       "      <td>1.00</td>\n",
       "      <td>0.03</td>\n",
       "      <td>0.88</td>\n",
       "      <td>0.11</td>\n",
       "    </tr>\n",
       "    <tr>\n",
       "      <th>Mistral-7B-Instruct-v0.2</th>\n",
       "      <td>14.00</td>\n",
       "      <td>110.00</td>\n",
       "      <td>85.00</td>\n",
       "      <td>18.76</td>\n",
       "      <td>14.21</td>\n",
       "      <td>1.00</td>\n",
       "      <td>0.02</td>\n",
       "      <td>0.89</td>\n",
       "      <td>0.11</td>\n",
       "    </tr>\n",
       "    <tr>\n",
       "      <th>opt-iml-max-30b</th>\n",
       "      <td>1,126.00</td>\n",
       "      <td>2,197.00</td>\n",
       "      <td>1,939.00</td>\n",
       "      <td>8.76</td>\n",
       "      <td>8.64</td>\n",
       "      <td>0.98</td>\n",
       "      <td>0.14</td>\n",
       "      <td>0.92</td>\n",
       "      <td>0.17</td>\n",
       "    </tr>\n",
       "    <tr>\n",
       "      <th>gpt-3.5-turbo-0125</th>\n",
       "      <td>13.00</td>\n",
       "      <td>34.00</td>\n",
       "      <td>2,965.00</td>\n",
       "      <td>20.73</td>\n",
       "      <td>20.76</td>\n",
       "      <td>1.00</td>\n",
       "      <td>0.02</td>\n",
       "      <td>0.91</td>\n",
       "      <td>0.11</td>\n",
       "    </tr>\n",
       "    <tr>\n",
       "      <th>gemini</th>\n",
       "      <td>16.00</td>\n",
       "      <td>126.00</td>\n",
       "      <td>36.00</td>\n",
       "      <td>71.08</td>\n",
       "      <td>54.01</td>\n",
       "      <td>0.99</td>\n",
       "      <td>0.05</td>\n",
       "      <td>0.73</td>\n",
       "      <td>0.16</td>\n",
       "    </tr>\n",
       "  </tbody>\n",
       "</table>\n",
       "</div>"
      ],
      "text/plain": [
       "                          empty_generation  short_texts  duplicates  \\\n",
       "vicuna-13b                          194.00       550.00      408.00   \n",
       "aya-101                           1,558.00     1,821.00    2,108.00   \n",
       "v5-Eagle-7B-HF                       15.00       287.00       28.00   \n",
       "Mistral-7B-Instruct-v0.2             14.00       110.00       85.00   \n",
       "opt-iml-max-30b                   1,126.00     2,197.00    1,939.00   \n",
       "gpt-3.5-turbo-0125                   13.00        34.00    2,965.00   \n",
       "gemini                               16.00       126.00       36.00   \n",
       "\n",
       "                          wordcount_mean  wordcount_std  \\\n",
       "vicuna-13b                         17.46          14.70   \n",
       "aya-101                            11.86          12.92   \n",
       "v5-Eagle-7B-HF                     22.13          17.17   \n",
       "Mistral-7B-Instruct-v0.2           18.76          14.21   \n",
       "opt-iml-max-30b                     8.76           8.64   \n",
       "gpt-3.5-turbo-0125                 20.73          20.76   \n",
       "gemini                             71.08          54.01   \n",
       "\n",
       "                          unique_sentences_mean  unique_sentences_std  \\\n",
       "vicuna-13b                                 1.00                  0.06   \n",
       "aya-101                                    0.97                  0.16   \n",
       "v5-Eagle-7B-HF                             1.00                  0.03   \n",
       "Mistral-7B-Instruct-v0.2                   1.00                  0.02   \n",
       "opt-iml-max-30b                            0.98                  0.14   \n",
       "gpt-3.5-turbo-0125                         1.00                  0.02   \n",
       "gemini                                     0.99                  0.05   \n",
       "\n",
       "                          unique_words_mean  unique_words_std  \n",
       "vicuna-13b                             0.91              0.12  \n",
       "aya-101                                0.90              0.19  \n",
       "v5-Eagle-7B-HF                         0.88              0.11  \n",
       "Mistral-7B-Instruct-v0.2               0.89              0.11  \n",
       "opt-iml-max-30b                        0.92              0.17  \n",
       "gpt-3.5-turbo-0125                     0.91              0.11  \n",
       "gemini                                 0.73              0.16  "
      ]
     },
     "execution_count": 103,
     "metadata": {},
     "output_type": "execute_result"
    }
   ],
   "source": [
    "pd.options.display.float_format = \"{:,.2f}\".format\n",
    "pd.DataFrame(stat).T"
   ]
  },
  {
   "cell_type": "code",
   "execution_count": null,
   "id": "55d935f4-a327-426c-900b-9c085f94c50b",
   "metadata": {},
   "outputs": [
    {
     "data": {
      "text/plain": [
       "count   431,144.00\n",
       "mean         24.39\n",
       "std          31.58\n",
       "min           0.00\n",
       "25%           7.00\n",
       "50%          13.00\n",
       "75%          27.00\n",
       "max         200.00\n",
       "Name: length, dtype: float64"
      ]
     },
     "execution_count": 104,
     "metadata": {},
     "output_type": "execute_result"
    }
   ],
   "source": [
    "multisocial[~multisocial.label.str.contains('human')].length.describe()"
   ]
  },
  {
   "cell_type": "code",
   "execution_count": null,
   "id": "a5069810-331b-4e9b-b4fe-f742d2768cd4",
   "metadata": {},
   "outputs": [
    {
     "data": {
      "text/plain": [
       "count   61,592.00\n",
       "mean        14.75\n",
       "std         34.17\n",
       "min          3.00\n",
       "25%          4.00\n",
       "50%          6.00\n",
       "75%         15.00\n",
       "max      1,366.00\n",
       "Name: length, dtype: float64"
      ]
     },
     "execution_count": 105,
     "metadata": {},
     "output_type": "execute_result"
    }
   ],
   "source": [
    "multisocial[multisocial.label.str.contains('human')].length.describe()"
   ]
  },
  {
   "cell_type": "code",
   "execution_count": null,
   "id": "6a6f91b2-c8b8-4f52-a197-0efaf6f7e902",
   "metadata": {},
   "outputs": [
    {
     "data": {
      "text/plain": [
       "1366"
      ]
     },
     "execution_count": 106,
     "metadata": {},
     "output_type": "execute_result"
    }
   ],
   "source": [
    "multisocial[multisocial.label.str.contains('human')].length.max()"
   ]
  },
  {
   "cell_type": "code",
   "execution_count": null,
   "id": "de11db60-240f-43ec-b6c9-4c1e969022e9",
   "metadata": {},
   "outputs": [],
   "source": [
    "#shorten human texts\n",
    "def shorten_text(row, index):\n",
    "  human = str(row.text).strip()\n",
    "  if (human == ''):\n",
    "    return human\n",
    "  human_words = Text(human, hint_language_code=row.language).words\n",
    "  human_length = len(human_words)\n",
    "\n",
    "  while ((human_length > 200)): #remove last word if text longer than 200 words\n",
    "    human = human[:-len(str(human_words[-1]))].strip()\n",
    "    human_words = human_words[:-1]\n",
    "    human_length = len(human_words)\n",
    "  return human"
   ]
  },
  {
   "cell_type": "code",
   "execution_count": null,
   "id": "db8bed44-c20d-45b4-b462-8cc25e68cd6f",
   "metadata": {
    "tags": []
   },
   "outputs": [
    {
     "name": "stdout",
     "output_type": "stream",
     "text": [
      "⛱ *_SELF INCOME_*  ⛱ *_TEAM INCOME_*                🏖 *_AUTO INCOME_*  🏖 *_VIDEO WALL_*  ⛱ *_SURVEY wEALL*   ⛱ *_CLICK AND EARN_*  🏖 *_SHOPPING INCOME_*   🏖 *_OFFER WALL_*  ⛱ *_OPINION WALL,AND  ⛱MANY MORE!!!!!!!!_* 🏖 *_JAI COOLEBIZ_*🏖  *COOLEBIZ App*   🍁🍁🍁🍁🍁🍁🍁🍁🍁🍁  *_कुलेबिज़ 110% income & success देगा_* *_1 month मेहनत करो minimum 100 लोगो को जोडो daily 500+ earning आऐगा_*  *LEVEL INCOME 10 LEVEL तक* *_FIXED INCOME_*  *Self           100%* *1st  level.  30%* *2nd level. 20%* *3rd  level.  10%* *4th  level.  5%* *5th  level.  5%* *6th  level.  5%* *7th  level.  5%* *8th  level.  5% And 9,10 Level 5%*  *_Sir income की बरसात शुरू गया है, अब 2017 पे बरसात और joining का तुफान आना बाकी है_* *_join today & start earning_ https://play.google.com/store/apps/details?id=com.coolebiz  *_⬇ कुलेबिज़ मे  join कैसे करे ⬇_* 🏖🏖🏖🏖🏖🏖🏖🏖🏖🏖🏖  *_👇🏽Coolebiz कैसे  join करे_* *_• 👇🏽सबसे पहले निचे लिंक पर क्लिक कर*_ https://play.google.com/store/apps/details?id=com.coolebiz • अब  Coolebiz App को Install कर Open करे_* *_• अब अपनी पूरी जानकारी सही सही भरे_* *_• और जब Refer Id मांग तो ये डाले  \"162413689075* *_• अब प्रोसेस बटन पर क्लिक करे_* *_• अब आपके सामने एक ऑडियो प्लेय होगी उसे सुने_* *_• ऑडियो को फॉलो करते हुए अपना टास्क कम्पलीट करें_* *_• Only 10 App इनस्टॉल करनी है_* *_• Install करने के बाद आपको Sign Up बोनस 40₹ मिल जायेंगे_*⛱⛱⛱⛱⛱ *_आपकी id बन गयी अब आप मेरे साथ वर्क कर सकते है या अब अपने दोस्तों रिस्तेदारो को Coolebiz में ज्वाइन करो_*⛱⛱ *=============================*  ⛱⛱ *_WHAT IS AUTO INCOME_* ⛱ *🏝🏖 YOU CAN  EARN ONLY 200Rupees in Coolebiz income.   your auto income started🏝🏖*  _*👉🏽 अधिक जानकारी के लिऐ  मै आपको Whatsappमे  मिल  जाऊगा, join होने के बाद  आप मुझे  Whatsapp मे Contact :-8006613800*  *MORE INFO-*  *_TOP LEADER*_   *WHATSAP *  🙏🏻 *_THANKU FRIENDS_* 🙏🏻 *_NOT WASTE YOUR TIME JOIN TODAY_*  *🏆SPONSOR ID MUST ID :- *162413689075🏆*  *Contact Or WhatsApp - 8006613800* ‬: https://m.youtube.com/channel/UCxZFNTCysXV3sSo3YT6xUdw   *_job job job home based job_* *_(Joining free ... joining free)_* _योग्यता:- 10th , 12th & स्नातक_ _👉Android मोबाइल मे internet की जानकारी होनी चाहिये तथा Facebook और Whatsapp की जानकारी होनी चाहिये_  ╭───────────────╮ ┃____ ══___ ⊙°° ___ ┃ ┃███████████████┃ ┃█ *PART TIME JOB*   █┃ ┃███████████████┃  *┃█      █NO REGISTRATION FEES* ┃██████████████ ┃███████████████┃ ┃  *Refer Id 162413689075* ┃███████████████┃ ┃███████████████┃ ┃███████████████┃ ┃███████████████┃ ┃███████████████┃ ┃            » 🔘 «           ┃ ╰───────────────╯  ✍फेसबुक और Whatsaap चलाने वालों के लिए एक मौका ✍ *_1⃣अगर आप  इस बिजनेस मे जुड़कर 1 महीने मे सिर्फ पाच लोगो को ही join कराते हो तथा आपकी टीम भी हर महीने केवल पाच लोगो को ही join कराती है तो भी आप एक साल मे 1 करोड़ से ज्यादा कमा लोगे l आप एक साल मे 1 करोड़ एक सरकारी नौकरी से भी नही कमा सकते ये बिल्कुल सच है_* *_2⃣इस बिजनेस मे income करने के कई Source आ रहे है जिससे आप हर महीने लाखो रूपये कमा सकते हो l एक साल तक अगर आपने इसमे मेहनत कर दिया तो आप यहा से 5 से 10 लाख रूपया कमा सकते है पूरी लाइफ टाइम तक_*  *_3⃣इस बिजनेस मे जो 200₹ कमा चुका है उसको पूरी लाइफ टाइम तक 15000₹ हर महीने मिलेगा वो भी बिना काम किये l इसलिए अपने परिवार के सभी सदस्यो को तथा अपने दोस्तो और रिश्तेदारो को भी Coolebiz मे join कराओ और उनसे बोलो कि वे 1 महीना मेहनत करके 200₹ कमाये और Auto income मे घुस जाये l उनको हर महीने 15000₹ उनके Bank Account मे मिलता रहेगा_* भारत में पहली बार घर बैठे कमाये 10,000-25,000 हर महीने बिना किसी खर्चे के । मोदी जी द्वारा चलाए गये  \" DIGITAL INDIA  \"  से जुड़े और  कमाए हर महीने 25,000 रुपये ।  दुनिया का पहला Business जिसे आप Facebook और Whatsaap के द्वारा कर सकते हैं ।  👉👉तो जाने आप अपने ही Android मोबाइल से कैसे पैसे कमा सकते हो 1.👉सबसे पहले अपने फ़ोन के Play Store में  👉Coolebiz 👈  लिखो और उस App को Install कर लो | 2.👉अब App को Open करो और  अपनी डिटेल्स भर दो. 3.👉जब आपसे Sponsor ID पूछेगा वहाँ *823869001260*डाल दो और अपनी ID बना लो  4.👉जो Apps दिखाई दे रही हैं उनको एक-एक करके Install तथा साथ कि साथ 1से 2 Mins Open उसके बाद आप एक्टिवमेम्बर बन जाओगे   💪 आपकी Income इस प्रकार होगी : level      टीम         ₹(Rs)         Total 1          5              12       60 2          25             8        200 3         125            4        500 4         625            4        2500                 5         3125          2        6250 6         15625        2        31250           7         78125        2        156250 8         390625      2        781250 9         1953125    2        3906250 10       9765625    2        19531250  *🔷Total income=Rs* *775394833320*  😍  ✅ *सोच लो अगर 5% भी success बन गये तो भी Rs 💰24415760 मिलेगा वो भी बिना कुछ लगाये.*  *आपको करना क्या है* 👇👇👇👇👇🏻 🔸 किसी को *Join* करके पैसा कमाये 🔸  सिर्फ यही नही जब आपके *TEAM* का कोई भी सदस्य इनमे से कोई Task या Joining कराता है तो वी आप को 10 लेवल तक पैसा मिलेगा Etc.  *♦Auto level*:-सिर्फ 15 जोइनिंग करो ऑटो id आपकी कंपनी आपको *5835* रुपये देगी  *📢📢📢Jo bhi banda jitna jaldi auto income me jayega* *200cp karke* *Uske neeche* *1st level pe- 3    log* *2nd level pe- 9   log* *3rd level pe-  27 log* *4rd level pe  - 81log*  *Total - 120 log*  *120 log auto income me chale jayege* *To hme first payout milega company ki traf se*  *5835+ rs*  *Mje wali baat ye hai ki* *120 log hme nhi lagane* *auto income me* *Hmre baad pure india se jo bhi log auto- income me jayege* *Wo sab hmare neeche lagenge* 🤑🤑🤑🤑🤑🤑🤑  Fir aage hmari fastly income hoti jayegi  🏆 *Coolebiz coming soon*🏆  👉 *Self income* 👈  👉 *Rank* 👈  👉 *Cool coin* 👈  🎖 *COOLEBIZ is life changing plan* 🎖   ========Important========    Android Mobile के लिए- https://play.google.com/store/apps/details?id=com.coolebiz *Refer id *162413689075*�❤ * *Coolebiz new update coming soon*🏆 🔜🔜🔜🔜🔜🔜🔜🔜 👉 *Self income* 👈 ( *cooming soon* )   👉 *Rank achieved* 👈 ( *wait for some days* )   👉 *AUTO INCOME TREE* ( *cooming soon* ) 👉 *Cool coin* 👈( *wait for 1 -2 year* )  👉 *Smart income*  ( *cooming soon* )  🎖 *COOLEBIZ is life changing plan* 🎖   🗣 *DOSTO COOLEBIZ ABHI START HUA HAI*          🤷‍♀ *ABHI BHAUT KUCH AANA BAKI HAI*          💯 *ABHI TIME HAI AACHA TEAM*   *BANANE KA  🏆AACHI TEAM BANEGI TO AACHI INCOME HOGI* 💎💎💎💎💎💎💎💎 🇮🇳🇮🇳🇮🇳🇮🇳🇮🇳🇮🇳🇮🇳 🆕🆕🆕🆕🆕🆕🆕🆕 💸💸💸💸💸💸💸 *_Join होने के बाद मेरे Whatsap(8006613800)पर सम्पर्क करे l मै आपकी टीम बनाने मे आपकी पूरी Help करूंगा_* 👏👏👏👏 👏👏👏 🇮🇳🇮🇳🇮🇳🇮🇳🇮🇳🇮🇳🇮🇳🇮🇳\n",
      "*****************SHORTENED******************\n",
      " ⛱ *_SELF INCOME_*  ⛱ *_TEAM INCOME_*                🏖 *_AUTO INCOME_*  🏖 *_VIDEO WALL_*  ⛱ *_SURVEY wEALL*   ⛱ *_CLICK AND EARN_*  🏖 *_SHOPPING INCOME_*   🏖 *_OFFER WALL_*  ⛱ *_OPINION WALL,AND  ⛱MANY MORE!!!!!!!!_* 🏖 *_JAI COOLEBIZ_*🏖  *COOLEBIZ App*   🍁🍁🍁🍁🍁🍁🍁🍁🍁🍁  *_कुलेबिज़ 110% income & success देगा_* *_1 month मेहनत करो minimum 100 लोगो को जोडो daily 500+ earning आऐगा_*  *LEVEL INCOME 10 LEVEL तक* *_FIXED INCOME_*  *Self           100%* *1st  level.  30%* *2nd level. 20%* *3rd  level.  10%* *4th  level.  5%* *5th\n"
     ]
    }
   ],
   "source": [
    "row = multisocial.iloc[46025]\n",
    "human = str(row.text).strip()\n",
    "Text(human, hint_language_code=row.language).words\n",
    "print(row.text)\n",
    "print('*****************SHORTENED******************\\n', shorten_text(row, 0))"
   ]
  },
  {
   "cell_type": "code",
   "execution_count": null,
   "id": "1a74792e-276f-4d9f-9ccf-1650e3608553",
   "metadata": {
    "tags": []
   },
   "outputs": [
    {
     "name": "stderr",
     "output_type": "stream",
     "text": [
      "100%|████████████████████████████████████████████████████████████████████████████| 61592/61592 [04:32<00:00, 226.20it/s]\n",
      "100%|███████████████████████████████████████████████████████████████████████████| 61592/61592 [00:07<00:00, 8244.94it/s]\n",
      "100%|███████████████████████████████████████████████████████████████████████████| 61592/61592 [00:07<00:00, 8626.94it/s]\n"
     ]
    }
   ],
   "source": [
    "#fix human texts\n",
    "\n",
    "dataset = multisocial[multisocial.label.str.contains('human')].copy()\n",
    "dataset['text'] = dataset['text'].apply(lambda x: remove_bad_chars(x).strip())\n",
    "dataset['text'] = [shorten_text(row, index) for index, row in tqdm(dataset.iterrows(), total=len(dataset))]\n",
    "dataset['length'] = [len(x.split()) if (y != 'zh') or (x == '') else len(Text(x, hint_language_code=y).words) for (x, y) in zip(dataset.text, dataset.language)]\n",
    "dataset['unique_sentences'] = [unique_sentences(row) for index, row in tqdm(dataset.iterrows(), total=len(dataset))]\n",
    "dataset['unique_words'] = [unique_words(row) for index, row in tqdm(dataset.iterrows(), total=len(dataset))]\n",
    "multisocial.loc[multisocial.label.str.contains('human'),:] = dataset"
   ]
  },
  {
   "cell_type": "code",
   "execution_count": null,
   "id": "c626c822-9bb2-4105-a79d-fe6fd284dd8a",
   "metadata": {},
   "outputs": [],
   "source": [
    "empty_generation = len(dataset[(dataset.text == '') | (dataset.text == 'nan') | dataset.text.isna()])\n",
    "shorts = len(dataset[dataset.length < 3])\n",
    "duplicates = len(dataset[dataset.text.duplicated(keep=False)])\n",
    "\n",
    "stat['human'] = {'empty_generation': empty_generation, 'short_texts': shorts, 'duplicates': duplicates, 'wordcount_mean': dataset.length.mean(), 'wordcount_std': dataset.length.std(), 'unique_sentences_mean': dataset.unique_sentences.mean(), 'unique_sentences_std': dataset.unique_sentences.std(), 'unique_words_mean': dataset.unique_words.mean(), 'unique_words_std': dataset.unique_words.std()}"
   ]
  },
  {
   "cell_type": "code",
   "execution_count": null,
   "id": "a3a77ee6-0f62-4d46-ac4b-9a7f1363f292",
   "metadata": {},
   "outputs": [
    {
     "data": {
      "text/html": [
       "<div>\n",
       "<style scoped>\n",
       "    .dataframe tbody tr th:only-of-type {\n",
       "        vertical-align: middle;\n",
       "    }\n",
       "\n",
       "    .dataframe tbody tr th {\n",
       "        vertical-align: top;\n",
       "    }\n",
       "\n",
       "    .dataframe thead th {\n",
       "        text-align: right;\n",
       "    }\n",
       "</style>\n",
       "<table border=\"1\" class=\"dataframe\">\n",
       "  <thead>\n",
       "    <tr style=\"text-align: right;\">\n",
       "      <th></th>\n",
       "      <th>empty_generation</th>\n",
       "      <th>short_texts</th>\n",
       "      <th>duplicates</th>\n",
       "      <th>wordcount_mean</th>\n",
       "      <th>wordcount_std</th>\n",
       "      <th>unique_sentences_mean</th>\n",
       "      <th>unique_sentences_std</th>\n",
       "      <th>unique_words_mean</th>\n",
       "      <th>unique_words_std</th>\n",
       "    </tr>\n",
       "  </thead>\n",
       "  <tbody>\n",
       "    <tr>\n",
       "      <th>vicuna-13b</th>\n",
       "      <td>194.00</td>\n",
       "      <td>550.00</td>\n",
       "      <td>408.00</td>\n",
       "      <td>17.46</td>\n",
       "      <td>14.70</td>\n",
       "      <td>1.00</td>\n",
       "      <td>0.06</td>\n",
       "      <td>0.91</td>\n",
       "      <td>0.12</td>\n",
       "    </tr>\n",
       "    <tr>\n",
       "      <th>aya-101</th>\n",
       "      <td>1,558.00</td>\n",
       "      <td>1,821.00</td>\n",
       "      <td>2,108.00</td>\n",
       "      <td>11.86</td>\n",
       "      <td>12.92</td>\n",
       "      <td>0.97</td>\n",
       "      <td>0.16</td>\n",
       "      <td>0.90</td>\n",
       "      <td>0.19</td>\n",
       "    </tr>\n",
       "    <tr>\n",
       "      <th>v5-Eagle-7B-HF</th>\n",
       "      <td>15.00</td>\n",
       "      <td>287.00</td>\n",
       "      <td>28.00</td>\n",
       "      <td>22.13</td>\n",
       "      <td>17.17</td>\n",
       "      <td>1.00</td>\n",
       "      <td>0.03</td>\n",
       "      <td>0.88</td>\n",
       "      <td>0.11</td>\n",
       "    </tr>\n",
       "    <tr>\n",
       "      <th>Mistral-7B-Instruct-v0.2</th>\n",
       "      <td>14.00</td>\n",
       "      <td>110.00</td>\n",
       "      <td>85.00</td>\n",
       "      <td>18.76</td>\n",
       "      <td>14.21</td>\n",
       "      <td>1.00</td>\n",
       "      <td>0.02</td>\n",
       "      <td>0.89</td>\n",
       "      <td>0.11</td>\n",
       "    </tr>\n",
       "    <tr>\n",
       "      <th>opt-iml-max-30b</th>\n",
       "      <td>1,126.00</td>\n",
       "      <td>2,197.00</td>\n",
       "      <td>1,939.00</td>\n",
       "      <td>8.76</td>\n",
       "      <td>8.64</td>\n",
       "      <td>0.98</td>\n",
       "      <td>0.14</td>\n",
       "      <td>0.92</td>\n",
       "      <td>0.17</td>\n",
       "    </tr>\n",
       "    <tr>\n",
       "      <th>gpt-3.5-turbo-0125</th>\n",
       "      <td>13.00</td>\n",
       "      <td>34.00</td>\n",
       "      <td>2,965.00</td>\n",
       "      <td>20.73</td>\n",
       "      <td>20.76</td>\n",
       "      <td>1.00</td>\n",
       "      <td>0.02</td>\n",
       "      <td>0.91</td>\n",
       "      <td>0.11</td>\n",
       "    </tr>\n",
       "    <tr>\n",
       "      <th>gemini</th>\n",
       "      <td>16.00</td>\n",
       "      <td>126.00</td>\n",
       "      <td>36.00</td>\n",
       "      <td>71.08</td>\n",
       "      <td>54.01</td>\n",
       "      <td>0.99</td>\n",
       "      <td>0.05</td>\n",
       "      <td>0.73</td>\n",
       "      <td>0.16</td>\n",
       "    </tr>\n",
       "    <tr>\n",
       "      <th>human</th>\n",
       "      <td>0.00</td>\n",
       "      <td>3,591.00</td>\n",
       "      <td>27.00</td>\n",
       "      <td>12.83</td>\n",
       "      <td>19.21</td>\n",
       "      <td>1.00</td>\n",
       "      <td>0.01</td>\n",
       "      <td>0.90</td>\n",
       "      <td>0.14</td>\n",
       "    </tr>\n",
       "  </tbody>\n",
       "</table>\n",
       "</div>"
      ],
      "text/plain": [
       "                          empty_generation  short_texts  duplicates  \\\n",
       "vicuna-13b                          194.00       550.00      408.00   \n",
       "aya-101                           1,558.00     1,821.00    2,108.00   \n",
       "v5-Eagle-7B-HF                       15.00       287.00       28.00   \n",
       "Mistral-7B-Instruct-v0.2             14.00       110.00       85.00   \n",
       "opt-iml-max-30b                   1,126.00     2,197.00    1,939.00   \n",
       "gpt-3.5-turbo-0125                   13.00        34.00    2,965.00   \n",
       "gemini                               16.00       126.00       36.00   \n",
       "human                                 0.00     3,591.00       27.00   \n",
       "\n",
       "                          wordcount_mean  wordcount_std  \\\n",
       "vicuna-13b                         17.46          14.70   \n",
       "aya-101                            11.86          12.92   \n",
       "v5-Eagle-7B-HF                     22.13          17.17   \n",
       "Mistral-7B-Instruct-v0.2           18.76          14.21   \n",
       "opt-iml-max-30b                     8.76           8.64   \n",
       "gpt-3.5-turbo-0125                 20.73          20.76   \n",
       "gemini                             71.08          54.01   \n",
       "human                              12.83          19.21   \n",
       "\n",
       "                          unique_sentences_mean  unique_sentences_std  \\\n",
       "vicuna-13b                                 1.00                  0.06   \n",
       "aya-101                                    0.97                  0.16   \n",
       "v5-Eagle-7B-HF                             1.00                  0.03   \n",
       "Mistral-7B-Instruct-v0.2                   1.00                  0.02   \n",
       "opt-iml-max-30b                            0.98                  0.14   \n",
       "gpt-3.5-turbo-0125                         1.00                  0.02   \n",
       "gemini                                     0.99                  0.05   \n",
       "human                                      1.00                  0.01   \n",
       "\n",
       "                          unique_words_mean  unique_words_std  \n",
       "vicuna-13b                             0.91              0.12  \n",
       "aya-101                                0.90              0.19  \n",
       "v5-Eagle-7B-HF                         0.88              0.11  \n",
       "Mistral-7B-Instruct-v0.2               0.89              0.11  \n",
       "opt-iml-max-30b                        0.92              0.17  \n",
       "gpt-3.5-turbo-0125                     0.91              0.11  \n",
       "gemini                                 0.73              0.16  \n",
       "human                                  0.90              0.14  "
      ]
     },
     "execution_count": 111,
     "metadata": {},
     "output_type": "execute_result"
    }
   ],
   "source": [
    "pd.DataFrame(stat).T"
   ]
  },
  {
   "cell_type": "code",
   "execution_count": null,
   "id": "c31967bb-2708-4c68-9074-2b0b94b34d75",
   "metadata": {},
   "outputs": [
    {
     "name": "stdout",
     "output_type": "stream",
     "text": [
      "\\begin{tabular}{lrrrrrrrrr}\n",
      "\\toprule\n",
      "                   index &  empty_generation &  short_texts &  duplicates &  wordcount_mean &  wordcount_std &  unique_sentences_mean &  unique_sentences_std &  unique_words_mean &  unique_words_std \\\\\n",
      "\\midrule\n",
      "              vicuna-13b &            194.00 &       550.00 &      408.00 &           17.46 &          14.70 &                   1.00 &                  0.06 &               0.91 &              0.12 \\\\\n",
      "                 aya-101 &           1558.00 &      1821.00 &     2108.00 &           11.86 &          12.92 &                   0.97 &                  0.16 &               0.90 &              0.19 \\\\\n",
      "          v5-Eagle-7B-HF &             15.00 &       287.00 &       28.00 &           22.13 &          17.17 &                   1.00 &                  0.03 &               0.88 &              0.11 \\\\\n",
      "Mistral-7B-Instruct-v0.2 &             14.00 &       110.00 &       85.00 &           18.76 &          14.21 &                   1.00 &                  0.02 &               0.89 &              0.11 \\\\\n",
      "         opt-iml-max-30b &           1126.00 &      2197.00 &     1939.00 &            8.76 &           8.64 &                   0.98 &                  0.14 &               0.92 &              0.17 \\\\\n",
      "      gpt-3.5-turbo-0125 &             13.00 &        34.00 &     2965.00 &           20.73 &          20.76 &                   1.00 &                  0.02 &               0.91 &              0.11 \\\\\n",
      "                  gemini &             16.00 &       126.00 &       36.00 &           71.08 &          54.01 &                   0.99 &                  0.05 &               0.73 &              0.16 \\\\\n",
      "                   human &              0.00 &      3591.00 &       27.00 &           12.83 &          19.21 &                   1.00 &                  0.01 &               0.90 &              0.14 \\\\\n",
      "\\bottomrule\n",
      "\\end{tabular}\n",
      "\n"
     ]
    },
    {
     "name": "stderr",
     "output_type": "stream",
     "text": [
      "/tmp/ipykernel_7575/1041401848.py:2: FutureWarning: In future versions `DataFrame.to_latex` is expected to utilise the base implementation of `Styler.to_latex` for formatting and rendering. The arguments signature may therefore change. It is recommended instead to use `DataFrame.style.to_latex` which also contains additional functionality.\n",
      "  print(temp.to_latex(index=False, na_rep=0, escape=False, formatters={\"text\": str.lower}, float_format=\"{:.2f}\".format))\n"
     ]
    }
   ],
   "source": [
    "temp = pd.DataFrame(stat).T.reset_index()\n",
    "print(temp.to_latex(index=False, na_rep=0, escape=False, formatters={\"text\": str.lower}, float_format=\"{:.2f}\".format))"
   ]
  },
  {
   "cell_type": "code",
   "execution_count": null,
   "id": "2e10dbdb-93b3-4a01-a1a9-3b2a737e920a",
   "metadata": {},
   "outputs": [
    {
     "data": {
      "text/plain": [
       "count   61,592.00\n",
       "mean        12.83\n",
       "std         19.21\n",
       "min          1.00\n",
       "25%          3.00\n",
       "50%          6.00\n",
       "75%         14.00\n",
       "max        200.00\n",
       "Name: length, dtype: float64"
      ]
     },
     "execution_count": 113,
     "metadata": {},
     "output_type": "execute_result"
    }
   ],
   "source": [
    "multisocial[multisocial.label.str.contains('human')].length.describe()"
   ]
  },
  {
   "cell_type": "code",
   "execution_count": null,
   "id": "add9cc43-c16e-44e2-bcc8-07c922693cf5",
   "metadata": {},
   "outputs": [
    {
     "data": {
      "text/plain": [
       "count   431,144.00\n",
       "mean         24.39\n",
       "std          31.58\n",
       "min           0.00\n",
       "25%           7.00\n",
       "50%          13.00\n",
       "75%          27.00\n",
       "max         200.00\n",
       "Name: length, dtype: float64"
      ]
     },
     "execution_count": 114,
     "metadata": {},
     "output_type": "execute_result"
    }
   ],
   "source": [
    "multisocial[~multisocial.label.str.contains('human')].length.describe()"
   ]
  },
  {
   "cell_type": "code",
   "execution_count": null,
   "id": "eabed6f5-9908-4b8f-bc59-89e22e2c844c",
   "metadata": {},
   "outputs": [
    {
     "data": {
      "text/html": [
       "<div>\n",
       "<style scoped>\n",
       "    .dataframe tbody tr th:only-of-type {\n",
       "        vertical-align: middle;\n",
       "    }\n",
       "\n",
       "    .dataframe tbody tr th {\n",
       "        vertical-align: top;\n",
       "    }\n",
       "\n",
       "    .dataframe thead th {\n",
       "        text-align: right;\n",
       "    }\n",
       "</style>\n",
       "<table border=\"1\" class=\"dataframe\">\n",
       "  <thead>\n",
       "    <tr style=\"text-align: right;\">\n",
       "      <th></th>\n",
       "      <th>text</th>\n",
       "      <th>label</th>\n",
       "      <th>length</th>\n",
       "      <th>source</th>\n",
       "      <th>language</th>\n",
       "      <th>domain</th>\n",
       "      <th>topic</th>\n",
       "      <th>split</th>\n",
       "      <th>generated</th>\n",
       "      <th>unique_sentences</th>\n",
       "      <th>unique_words</th>\n",
       "      <th>Unnamed: 0</th>\n",
       "    </tr>\n",
       "  </thead>\n",
       "  <tbody>\n",
       "    <tr>\n",
       "      <th>0</th>\n",
       "      <td>@demo_demo_nl @op1npo De 'wetenschappelijke' m...</td>\n",
       "      <td>human</td>\n",
       "      <td>15</td>\n",
       "      <td>twitter</td>\n",
       "      <td>nl</td>\n",
       "      <td>social_media</td>\n",
       "      <td>unknown</td>\n",
       "      <td>train</td>\n",
       "      <td>NaN</td>\n",
       "      <td>1.00</td>\n",
       "      <td>0.85</td>\n",
       "      <td>NaN</td>\n",
       "    </tr>\n",
       "    <tr>\n",
       "      <th>1</th>\n",
       "      <td>群众是真正的英雄，而我们自己则往往是幼稚可笑的，不了解这一点，就不能得到起码的知识。 ◦ 《...</td>\n",
       "      <td>human</td>\n",
       "      <td>56</td>\n",
       "      <td>telegram</td>\n",
       "      <td>zh</td>\n",
       "      <td>social_media</td>\n",
       "      <td>unknown</td>\n",
       "      <td>train</td>\n",
       "      <td>NaN</td>\n",
       "      <td>1.00</td>\n",
       "      <td>0.86</td>\n",
       "      <td>NaN</td>\n",
       "    </tr>\n",
       "    <tr>\n",
       "      <th>2</th>\n",
       "      <td>Вот пример, шунич виноват в голе Дзюбы?</td>\n",
       "      <td>human</td>\n",
       "      <td>7</td>\n",
       "      <td>telegram</td>\n",
       "      <td>ru</td>\n",
       "      <td>social_media</td>\n",
       "      <td>unknown</td>\n",
       "      <td>train</td>\n",
       "      <td>NaN</td>\n",
       "      <td>1.00</td>\n",
       "      <td>1.00</td>\n",
       "      <td>NaN</td>\n",
       "    </tr>\n",
       "    <tr>\n",
       "      <th>3</th>\n",
       "      <td>no cp wont load</td>\n",
       "      <td>human</td>\n",
       "      <td>4</td>\n",
       "      <td>twitter</td>\n",
       "      <td>en</td>\n",
       "      <td>social_media</td>\n",
       "      <td>unknown</td>\n",
       "      <td>train</td>\n",
       "      <td>NaN</td>\n",
       "      <td>1.00</td>\n",
       "      <td>1.00</td>\n",
       "      <td>NaN</td>\n",
       "    </tr>\n",
       "    <tr>\n",
       "      <th>4</th>\n",
       "      <td>20 de julio</td>\n",
       "      <td>human</td>\n",
       "      <td>3</td>\n",
       "      <td>whatsapp</td>\n",
       "      <td>es</td>\n",
       "      <td>social_media</td>\n",
       "      <td>unknown</td>\n",
       "      <td>train</td>\n",
       "      <td>NaN</td>\n",
       "      <td>1.00</td>\n",
       "      <td>1.00</td>\n",
       "      <td>NaN</td>\n",
       "    </tr>\n",
       "  </tbody>\n",
       "</table>\n",
       "</div>"
      ],
      "text/plain": [
       "                                                text  label  length    source  \\\n",
       "0  @demo_demo_nl @op1npo De 'wetenschappelijke' m...  human      15   twitter   \n",
       "1  群众是真正的英雄，而我们自己则往往是幼稚可笑的，不了解这一点，就不能得到起码的知识。 ◦ 《...  human      56  telegram   \n",
       "2            Вот пример, шунич виноват в голе Дзюбы?  human       7  telegram   \n",
       "3                                    no cp wont load  human       4   twitter   \n",
       "4                                        20 de julio  human       3  whatsapp   \n",
       "\n",
       "  language        domain    topic  split generated  unique_sentences  \\\n",
       "0       nl  social_media  unknown  train       NaN              1.00   \n",
       "1       zh  social_media  unknown  train       NaN              1.00   \n",
       "2       ru  social_media  unknown  train       NaN              1.00   \n",
       "3       en  social_media  unknown  train       NaN              1.00   \n",
       "4       es  social_media  unknown  train       NaN              1.00   \n",
       "\n",
       "   unique_words  Unnamed: 0  \n",
       "0          0.85         NaN  \n",
       "1          0.86         NaN  \n",
       "2          1.00         NaN  \n",
       "3          1.00         NaN  \n",
       "4          1.00         NaN  "
      ]
     },
     "execution_count": 115,
     "metadata": {},
     "output_type": "execute_result"
    }
   ],
   "source": [
    "multisocial.head()"
   ]
  },
  {
   "cell_type": "code",
   "execution_count": null,
   "id": "73dca80b-04ff-4ecc-af4a-3e0cd81a5b41",
   "metadata": {},
   "outputs": [],
   "source": [
    "multisocial.drop(columns=['Unnamed: 0'], inplace=True)"
   ]
  },
  {
   "cell_type": "code",
   "execution_count": null,
   "id": "4754ba50-363b-41ca-970f-d0aec459bfd2",
   "metadata": {},
   "outputs": [
    {
     "data": {
      "text/plain": [
       "human                       61592\n",
       "vicuna-13b                  61592\n",
       "aya-101                     61592\n",
       "v5-Eagle-7B-HF              61592\n",
       "Mistral-7B-Instruct-v0.2    61592\n",
       "opt-iml-max-30b             61592\n",
       "gpt-3.5-turbo-0125          61592\n",
       "gemini                      61592\n",
       "Name: label, dtype: int64"
      ]
     },
     "execution_count": 117,
     "metadata": {},
     "output_type": "execute_result"
    }
   ],
   "source": [
    "multisocial.label.value_counts()"
   ]
  },
  {
   "cell_type": "code",
   "execution_count": null,
   "id": "9b651984-7e25-43ca-8917-c9a9bfb3b77b",
   "metadata": {},
   "outputs": [],
   "source": [
    "#delete empty and too-short (less than 3 words) texts\n",
    "multisocial.drop(columns=['generated', 'unique_sentences',\t'unique_words'], inplace=True)\n",
    "multisocial.loc[multisocial.text == \"nan\", \"text\"] = pd.NA\n",
    "multisocial.loc[multisocial.text == \"\", \"text\"] = pd.NA\n",
    "multisocial.dropna(inplace=True)\n",
    "multisocial = multisocial[multisocial.length > 2]"
   ]
  },
  {
   "cell_type": "code",
   "execution_count": null,
   "id": "bd2bd257-111f-4d9b-9639-6d51294d1211",
   "metadata": {},
   "outputs": [
    {
     "data": {
      "text/plain": [
       "Mistral-7B-Instruct-v0.2    61346\n",
       "gpt-3.5-turbo-0125          61256\n",
       "gemini                      61236\n",
       "v5-Eagle-7B-HF              61079\n",
       "vicuna-13b                  60393\n",
       "human                       58001\n",
       "aya-101                     57933\n",
       "opt-iml-max-30b             56003\n",
       "Name: label, dtype: int64"
      ]
     },
     "execution_count": 119,
     "metadata": {},
     "output_type": "execute_result"
    }
   ],
   "source": [
    "multisocial.label.value_counts()"
   ]
  },
  {
   "cell_type": "code",
   "execution_count": null,
   "id": "b92f101e-3802-4d3b-9305-876e0292c667",
   "metadata": {},
   "outputs": [],
   "source": [
    "#delete text duplicates\n",
    "multisocial = multisocial.drop_duplicates(subset=['text'])"
   ]
  },
  {
   "cell_type": "code",
   "execution_count": null,
   "id": "a975dcb0-201e-487f-a8f4-3ea89da1e1a4",
   "metadata": {},
   "outputs": [
    {
     "data": {
      "text/plain": [
       "Mistral-7B-Instruct-v0.2    61305\n",
       "v5-Eagle-7B-HF              61057\n",
       "vicuna-13b                  60346\n",
       "gemini                      59559\n",
       "gpt-3.5-turbo-0125          58851\n",
       "human                       57990\n",
       "aya-101                     57566\n",
       "opt-iml-max-30b             55423\n",
       "Name: label, dtype: int64"
      ]
     },
     "execution_count": 121,
     "metadata": {},
     "output_type": "execute_result"
    }
   ],
   "source": [
    "multisocial.label.value_counts()"
   ]
  },
  {
   "cell_type": "code",
   "execution_count": null,
   "id": "898d7401-b11a-4cf4-8a16-6f2dc8ae3657",
   "metadata": {},
   "outputs": [
    {
     "data": {
      "text/plain": [
       "es    50781\n",
       "en    50756\n",
       "pt    45178\n",
       "nl    40605\n",
       "de    30848\n",
       "ro    24536\n",
       "ru    24080\n",
       "pl    23711\n",
       "ar    23585\n",
       "ca    21612\n",
       "hr    20606\n",
       "hu    20508\n",
       "bg    20378\n",
       "et    19913\n",
       "cs    17267\n",
       "zh    11404\n",
       "uk    10388\n",
       "el     7464\n",
       "ga     3153\n",
       "sl     3072\n",
       "sk     2033\n",
       "gd      219\n",
       "Name: language, dtype: int64"
      ]
     },
     "execution_count": 122,
     "metadata": {},
     "output_type": "execute_result"
    }
   ],
   "source": [
    "multisocial.language.value_counts()"
   ]
  },
  {
   "cell_type": "code",
   "execution_count": null,
   "id": "8ea7b534-6900-4522-8da5-7a37079ad6ad",
   "metadata": {},
   "outputs": [
    {
     "data": {
      "text/plain": [
       "label                     language\n",
       "Mistral-7B-Instruct-v0.2  en          6497\n",
       "                          es          6495\n",
       "                          pt          5769\n",
       "                          nl          5232\n",
       "                          de          3965\n",
       "                                      ... \n",
       "vicuna-13b                el           968\n",
       "                          ga           457\n",
       "                          sl           389\n",
       "                          sk           260\n",
       "                          gd            32\n",
       "Name: language, Length: 176, dtype: int64"
      ]
     },
     "execution_count": 123,
     "metadata": {},
     "output_type": "execute_result"
    }
   ],
   "source": [
    "multisocial.groupby(['label'])['language'].value_counts()"
   ]
  },
  {
   "cell_type": "code",
   "execution_count": null,
   "id": "2d296440-80ca-4d6e-9277-5167cfc4a6e7",
   "metadata": {},
   "outputs": [
    {
     "data": {
      "text/plain": [
       "train    331209\n",
       "test     140888\n",
       "Name: split, dtype: int64"
      ]
     },
     "execution_count": 124,
     "metadata": {},
     "output_type": "execute_result"
    }
   ],
   "source": [
    "multisocial.split.value_counts()"
   ]
  },
  {
   "cell_type": "code",
   "execution_count": null,
   "id": "ee358e0e-82aa-4bbe-b8d1-59132ac57d88",
   "metadata": {},
   "outputs": [
    {
     "data": {
      "text/plain": [
       "split  language\n",
       "test   en          11730\n",
       "       pt          11725\n",
       "       es          11700\n",
       "       nl           9631\n",
       "       de           9603\n",
       "       ro           9393\n",
       "       ru           8016\n",
       "       ar           7989\n",
       "       ca           7471\n",
       "       pl           6991\n",
       "       cs           6127\n",
       "       hr           6039\n",
       "       hu           5968\n",
       "       et           5419\n",
       "       bg           4893\n",
       "       el           3650\n",
       "       zh           3480\n",
       "       ga           3153\n",
       "       sl           3072\n",
       "       uk           2586\n",
       "       sk           2033\n",
       "       gd            219\n",
       "train  es          39081\n",
       "       en          39026\n",
       "       pt          33453\n",
       "       nl          30974\n",
       "       de          21245\n",
       "       pl          16720\n",
       "       ru          16064\n",
       "       ar          15596\n",
       "       bg          15485\n",
       "       ro          15143\n",
       "       hr          14567\n",
       "       hu          14540\n",
       "       et          14494\n",
       "       ca          14141\n",
       "       cs          11140\n",
       "       zh           7924\n",
       "       uk           7802\n",
       "       el           3814\n",
       "Name: language, dtype: int64"
      ]
     },
     "execution_count": 125,
     "metadata": {},
     "output_type": "execute_result"
    }
   ],
   "source": [
    "multisocial.groupby(['split'])['language'].value_counts()"
   ]
  },
  {
   "cell_type": "code",
   "execution_count": null,
   "id": "12c57726-9fc1-4117-915f-0fb3a14e4d9e",
   "metadata": {},
   "outputs": [],
   "source": [
    "multisocial['multi_label'] = multisocial['label'].copy()\n",
    "multisocial['label'] = int(0)\n",
    "multisocial.loc[~multisocial.multi_label.str.contains('human'), 'label'] = int(1)\n",
    "multisocial = multisocial.sample(frac=1., random_state = 0).reset_index(drop=True)\n",
    "multisocial.to_csv(datapath + f'multisocial_v1.csv.gz', index=False)"
   ]
  },
  {
   "cell_type": "code",
   "execution_count": null,
   "id": "fc6a4b97-e99a-40f1-bc5a-f430ce6d7f2d",
   "metadata": {},
   "outputs": [
    {
     "data": {
      "text/html": [
       "<div>\n",
       "<style scoped>\n",
       "    .dataframe tbody tr th:only-of-type {\n",
       "        vertical-align: middle;\n",
       "    }\n",
       "\n",
       "    .dataframe tbody tr th {\n",
       "        vertical-align: top;\n",
       "    }\n",
       "\n",
       "    .dataframe thead th {\n",
       "        text-align: right;\n",
       "    }\n",
       "</style>\n",
       "<table border=\"1\" class=\"dataframe\">\n",
       "  <thead>\n",
       "    <tr style=\"text-align: right;\">\n",
       "      <th></th>\n",
       "      <th>text</th>\n",
       "      <th>label</th>\n",
       "      <th>length</th>\n",
       "      <th>source</th>\n",
       "      <th>language</th>\n",
       "      <th>domain</th>\n",
       "      <th>topic</th>\n",
       "      <th>split</th>\n",
       "      <th>multi_label</th>\n",
       "    </tr>\n",
       "  </thead>\n",
       "  <tbody>\n",
       "    <tr>\n",
       "      <th>0</th>\n",
       "      <td>Hola, ¿qué tal? - ¿Qué tal?</td>\n",
       "      <td>1</td>\n",
       "      <td>6</td>\n",
       "      <td>multisocial_discord</td>\n",
       "      <td>es</td>\n",
       "      <td>social_media</td>\n",
       "      <td>unknown</td>\n",
       "      <td>train</td>\n",
       "      <td>aya-101</td>\n",
       "    </tr>\n",
       "    <tr>\n",
       "      <th>1</th>\n",
       "      <td>The breathtaking picture shared by @sashagrey ...</td>\n",
       "      <td>1</td>\n",
       "      <td>10</td>\n",
       "      <td>multisocial_twitter</td>\n",
       "      <td>en</td>\n",
       "      <td>social_media</td>\n",
       "      <td>unknown</td>\n",
       "      <td>train</td>\n",
       "      <td>v5-Eagle-7B-HF</td>\n",
       "    </tr>\n",
       "    <tr>\n",
       "      <th>2</th>\n",
       "      <td>Πρέπει να πέσετε στην σ</td>\n",
       "      <td>1</td>\n",
       "      <td>5</td>\n",
       "      <td>multisocial_telegram</td>\n",
       "      <td>el</td>\n",
       "      <td>social_media</td>\n",
       "      <td>unknown</td>\n",
       "      <td>train</td>\n",
       "      <td>opt-iml-max-30b</td>\n",
       "    </tr>\n",
       "    <tr>\n",
       "      <th>3</th>\n",
       "      <td>Дійсно, християнство передбачає дотримання пев...</td>\n",
       "      <td>1</td>\n",
       "      <td>53</td>\n",
       "      <td>multisocial_telegram</td>\n",
       "      <td>uk</td>\n",
       "      <td>social_media</td>\n",
       "      <td>unknown</td>\n",
       "      <td>train</td>\n",
       "      <td>gemini</td>\n",
       "    </tr>\n",
       "    <tr>\n",
       "      <th>4</th>\n",
       "      <td>I Your patience is still being put to the test...</td>\n",
       "      <td>1</td>\n",
       "      <td>25</td>\n",
       "      <td>multisocial_telegram</td>\n",
       "      <td>cs</td>\n",
       "      <td>social_media</td>\n",
       "      <td>unknown</td>\n",
       "      <td>train</td>\n",
       "      <td>Mistral-7B-Instruct-v0.2</td>\n",
       "    </tr>\n",
       "  </tbody>\n",
       "</table>\n",
       "</div>"
      ],
      "text/plain": [
       "                                                text  label  length  \\\n",
       "0                        Hola, ¿qué tal? - ¿Qué tal?      1       6   \n",
       "1  The breathtaking picture shared by @sashagrey ...      1      10   \n",
       "2                            Πρέπει να πέσετε στην σ      1       5   \n",
       "3  Дійсно, християнство передбачає дотримання пев...      1      53   \n",
       "4  I Your patience is still being put to the test...      1      25   \n",
       "\n",
       "                 source language        domain    topic  split  \\\n",
       "0   multisocial_discord       es  social_media  unknown  train   \n",
       "1   multisocial_twitter       en  social_media  unknown  train   \n",
       "2  multisocial_telegram       el  social_media  unknown  train   \n",
       "3  multisocial_telegram       uk  social_media  unknown  train   \n",
       "4  multisocial_telegram       cs  social_media  unknown  train   \n",
       "\n",
       "                multi_label  \n",
       "0                   aya-101  \n",
       "1            v5-Eagle-7B-HF  \n",
       "2           opt-iml-max-30b  \n",
       "3                    gemini  \n",
       "4  Mistral-7B-Instruct-v0.2  "
      ]
     },
     "execution_count": 127,
     "metadata": {},
     "output_type": "execute_result"
    }
   ],
   "source": [
    "multisocial.head()"
   ]
  },
  {
   "cell_type": "code",
   "execution_count": null,
   "id": "675d209e-17ba-4734-a339-734de010389b",
   "metadata": {},
   "outputs": [
    {
     "name": "stdout",
     "output_type": "stream",
     "text": [
      "count   57,990.00\n",
      "mean        13.50\n",
      "std         19.53\n",
      "min          3.00\n",
      "25%          4.00\n",
      "50%          7.00\n",
      "75%         15.00\n",
      "max        200.00\n",
      "Name: length, dtype: float64\n",
      "count   414,107.00\n",
      "mean         25.10\n",
      "std          31.88\n",
      "min           3.00\n",
      "25%           8.00\n",
      "50%          14.00\n",
      "75%          27.00\n",
      "max         200.00\n",
      "Name: length, dtype: float64\n"
     ]
    }
   ],
   "source": [
    "print(multisocial[multisocial.multi_label.str.contains('human')].length.describe())\n",
    "print(multisocial[~multisocial.multi_label.str.contains('human')].length.describe())"
   ]
  }
 ],
 "metadata": {
  "kernelspec": {
   "display_name": "MGTBench",
   "language": "python",
   "name": "mgtbench"
  },
  "language_info": {
   "codemirror_mode": {
    "name": "ipython",
    "version": 3
   },
   "file_extension": ".py",
   "mimetype": "text/x-python",
   "name": "python",
   "nbconvert_exporter": "python",
   "pygments_lexer": "ipython3",
   "version": "3.8.16"
  }
 },
 "nbformat": 4,
 "nbformat_minor": 5
}
