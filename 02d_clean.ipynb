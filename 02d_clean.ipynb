{
 "cells": [
  {
   "cell_type": "code",
   "execution_count": 1,
   "id": "e64abf71-8868-4100-b6a3-3ee8ca9d2a45",
   "metadata": {},
   "outputs": [],
   "source": [
    "datapath = \"./dataset/\" #path to the dataset folder"
   ]
  },
  {
   "cell_type": "code",
   "execution_count": 2,
   "id": "c11490de-5a9e-4907-8d67-8b671519dd18",
   "metadata": {},
   "outputs": [],
   "source": [
    "import pandas as pd\n",
    "import regex\n",
    "from polyglot.text import Text, Word\n",
    "from tqdm import tqdm\n",
    "from langcodes import *\n",
    "import seaborn as sns"
   ]
  },
  {
   "cell_type": "code",
   "execution_count": 3,
   "id": "6ee7da33-8f09-4dc9-ba81-7cfd4ce0638c",
   "metadata": {},
   "outputs": [],
   "source": [
    "multisocial = pd.read_csv(datapath + f'multisocial_v1.csv.gz', lineterminator='\\n')"
   ]
  },
  {
   "cell_type": "code",
   "execution_count": 4,
   "id": "84d57cd3-86bf-4240-a576-7d0436d8cb5f",
   "metadata": {},
   "outputs": [
    {
     "data": {
      "text/html": [
       "<div>\n",
       "<style scoped>\n",
       "    .dataframe tbody tr th:only-of-type {\n",
       "        vertical-align: middle;\n",
       "    }\n",
       "\n",
       "    .dataframe tbody tr th {\n",
       "        vertical-align: top;\n",
       "    }\n",
       "\n",
       "    .dataframe thead th {\n",
       "        text-align: right;\n",
       "    }\n",
       "</style>\n",
       "<table border=\"1\" class=\"dataframe\">\n",
       "  <thead>\n",
       "    <tr style=\"text-align: right;\">\n",
       "      <th></th>\n",
       "      <th>index</th>\n",
       "      <th>text</th>\n",
       "      <th>label</th>\n",
       "      <th>length</th>\n",
       "      <th>source</th>\n",
       "      <th>language</th>\n",
       "      <th>domain</th>\n",
       "      <th>topic</th>\n",
       "      <th>split</th>\n",
       "      <th>multi_label</th>\n",
       "      <th>filter</th>\n",
       "    </tr>\n",
       "  </thead>\n",
       "  <tbody>\n",
       "    <tr>\n",
       "      <th>0</th>\n",
       "      <td>0</td>\n",
       "      <td>Hola, ¿qué tal? - ¿Qué tal?</td>\n",
       "      <td>1</td>\n",
       "      <td>6</td>\n",
       "      <td>multisocial_discord</td>\n",
       "      <td>es</td>\n",
       "      <td>social_media</td>\n",
       "      <td>unknown</td>\n",
       "      <td>train</td>\n",
       "      <td>aya-101</td>\n",
       "      <td>False</td>\n",
       "    </tr>\n",
       "    <tr>\n",
       "      <th>1</th>\n",
       "      <td>1</td>\n",
       "      <td>The breathtaking picture shared by @sashagrey ...</td>\n",
       "      <td>1</td>\n",
       "      <td>10</td>\n",
       "      <td>multisocial_twitter</td>\n",
       "      <td>en</td>\n",
       "      <td>social_media</td>\n",
       "      <td>unknown</td>\n",
       "      <td>train</td>\n",
       "      <td>v5-Eagle-7B-HF</td>\n",
       "      <td>False</td>\n",
       "    </tr>\n",
       "    <tr>\n",
       "      <th>2</th>\n",
       "      <td>2</td>\n",
       "      <td>Πρέπει να πέσετε στην σ</td>\n",
       "      <td>1</td>\n",
       "      <td>5</td>\n",
       "      <td>multisocial_telegram</td>\n",
       "      <td>el</td>\n",
       "      <td>social_media</td>\n",
       "      <td>unknown</td>\n",
       "      <td>train</td>\n",
       "      <td>opt-iml-max-30b</td>\n",
       "      <td>False</td>\n",
       "    </tr>\n",
       "    <tr>\n",
       "      <th>3</th>\n",
       "      <td>3</td>\n",
       "      <td>Дійсно, християнство передбачає дотримання пев...</td>\n",
       "      <td>1</td>\n",
       "      <td>53</td>\n",
       "      <td>multisocial_telegram</td>\n",
       "      <td>uk</td>\n",
       "      <td>social_media</td>\n",
       "      <td>unknown</td>\n",
       "      <td>train</td>\n",
       "      <td>gemini</td>\n",
       "      <td>False</td>\n",
       "    </tr>\n",
       "    <tr>\n",
       "      <th>4</th>\n",
       "      <td>4</td>\n",
       "      <td>I Your patience is still being put to the test...</td>\n",
       "      <td>1</td>\n",
       "      <td>25</td>\n",
       "      <td>multisocial_telegram</td>\n",
       "      <td>cs</td>\n",
       "      <td>social_media</td>\n",
       "      <td>unknown</td>\n",
       "      <td>train</td>\n",
       "      <td>Mistral-7B-Instruct-v0.2</td>\n",
       "      <td>False</td>\n",
       "    </tr>\n",
       "  </tbody>\n",
       "</table>\n",
       "</div>"
      ],
      "text/plain": [
       "   index                                               text  label  length  \\\n",
       "0      0                        Hola, ¿qué tal? - ¿Qué tal?      1       6   \n",
       "1      1  The breathtaking picture shared by @sashagrey ...      1      10   \n",
       "2      2                            Πρέπει να πέσετε στην σ      1       5   \n",
       "3      3  Дійсно, християнство передбачає дотримання пев...      1      53   \n",
       "4      4  I Your patience is still being put to the test...      1      25   \n",
       "\n",
       "                 source language        domain    topic  split  \\\n",
       "0   multisocial_discord       es  social_media  unknown  train   \n",
       "1   multisocial_twitter       en  social_media  unknown  train   \n",
       "2  multisocial_telegram       el  social_media  unknown  train   \n",
       "3  multisocial_telegram       uk  social_media  unknown  train   \n",
       "4  multisocial_telegram       cs  social_media  unknown  train   \n",
       "\n",
       "                multi_label  filter  \n",
       "0                   aya-101   False  \n",
       "1            v5-Eagle-7B-HF   False  \n",
       "2           opt-iml-max-30b   False  \n",
       "3                    gemini   False  \n",
       "4  Mistral-7B-Instruct-v0.2   False  "
      ]
     },
     "execution_count": 4,
     "metadata": {},
     "output_type": "execute_result"
    }
   ],
   "source": [
    "multisocial.head()"
   ]
  },
  {
   "cell_type": "code",
   "execution_count": 5,
   "id": "a128c64b-dbe2-4331-8496-2727751b932f",
   "metadata": {},
   "outputs": [
    {
     "data": {
      "text/plain": [
       "social_media    472097\n",
       "Name: domain, dtype: int64"
      ]
     },
     "execution_count": 5,
     "metadata": {},
     "output_type": "execute_result"
    }
   ],
   "source": [
    "multisocial.domain.value_counts()"
   ]
  },
  {
   "cell_type": "code",
   "execution_count": 6,
   "id": "df01e1dd-40a8-45d6-8d9a-d43903f04bf6",
   "metadata": {},
   "outputs": [
    {
     "data": {
      "text/html": [
       "<div>\n",
       "<style scoped>\n",
       "    .dataframe tbody tr th:only-of-type {\n",
       "        vertical-align: middle;\n",
       "    }\n",
       "\n",
       "    .dataframe tbody tr th {\n",
       "        vertical-align: top;\n",
       "    }\n",
       "\n",
       "    .dataframe thead th {\n",
       "        text-align: right;\n",
       "    }\n",
       "</style>\n",
       "<table border=\"1\" class=\"dataframe\">\n",
       "  <thead>\n",
       "    <tr style=\"text-align: right;\">\n",
       "      <th></th>\n",
       "      <th>index</th>\n",
       "      <th>text</th>\n",
       "      <th>label</th>\n",
       "      <th>length</th>\n",
       "      <th>source</th>\n",
       "      <th>language</th>\n",
       "      <th>domain</th>\n",
       "      <th>topic</th>\n",
       "      <th>split</th>\n",
       "      <th>multi_label</th>\n",
       "      <th>filter</th>\n",
       "    </tr>\n",
       "  </thead>\n",
       "  <tbody>\n",
       "  </tbody>\n",
       "</table>\n",
       "</div>"
      ],
      "text/plain": [
       "Empty DataFrame\n",
       "Columns: [index, text, label, length, source, language, domain, topic, split, multi_label, filter]\n",
       "Index: []"
      ]
     },
     "execution_count": 6,
     "metadata": {},
     "output_type": "execute_result"
    }
   ],
   "source": [
    "multisocial[multisocial.text.duplicated(keep=False)]"
   ]
  },
  {
   "cell_type": "code",
   "execution_count": 7,
   "id": "3c5f6cbd-4721-4661-8727-4f28d3198bde",
   "metadata": {},
   "outputs": [],
   "source": [
    "data = multisocial.reset_index()"
   ]
  },
  {
   "cell_type": "code",
   "execution_count": 8,
   "id": "9e1d440b-ca1e-42c0-9869-00c793906bb4",
   "metadata": {},
   "outputs": [
    {
     "name": "stdout",
     "output_type": "stream",
     "text": [
      "assist\n",
      "label  domain      \n",
      "1      social_media    4552\n",
      "0      social_media      85\n",
      "dtype: int64\n",
      "\n",
      "asist\n",
      "label  domain      \n",
      "1      social_media    1675\n",
      "0      social_media      20\n",
      "dtype: int64\n",
      "\n",
      "task\n",
      "label  domain      \n",
      "1      social_media    615\n",
      "0      social_media     23\n",
      "dtype: int64\n",
      "\n",
      "instruc\n",
      "label  domain      \n",
      "1      social_media    350\n",
      "0      social_media      8\n",
      "dtype: int64\n",
      "\n",
      "output\n",
      "label  domain      \n",
      "1      social_media    260\n",
      "0      social_media      1\n",
      "dtype: int64\n",
      "\n",
      "language model\n",
      "label  domain      \n",
      "1      social_media    150\n",
      "dtype: int64\n",
      "\n",
      "ai model\n",
      "label  domain      \n",
      "1      social_media    11\n",
      "dtype: int64\n",
      "\n",
      "as an ai\n",
      "label  domain      \n",
      "1      social_media    95\n",
      "dtype: int64\n",
      "\n"
     ]
    }
   ],
   "source": [
    "#check for noise\n",
    "phrases = ['assist', 'asist', 'task', 'instruc', 'output', 'language model', 'ai model', 'as an ai'] #maybe in other languages should be filtered as well\n",
    "for phrase in phrases:\n",
    "  print(f'{phrase}\\n{data[data.text.str.lower().str.contains(phrase)][[\"label\", \"domain\"]].value_counts()}\\n')"
   ]
  },
  {
   "cell_type": "code",
   "execution_count": 9,
   "id": "32393e7b-ab1b-430d-98f4-29f05b67cfe0",
   "metadata": {},
   "outputs": [
    {
     "name": "stdout",
     "output_type": "stream",
     "text": [
      "All filtered phrases:\n",
      "1    7360\n",
      "0     137\n",
      "Name: label, dtype: int64\n",
      "\n"
     ]
    }
   ],
   "source": [
    "print(f'All filtered phrases:\\n{data[data.text.str.contains(\"|\".join(phrases), na=False, case=False)].label.value_counts()}\\n')"
   ]
  },
  {
   "cell_type": "code",
   "execution_count": 10,
   "id": "ed218db2-39ad-4c6e-b025-8eb0debd8419",
   "metadata": {},
   "outputs": [],
   "source": [
    "data['filter'] = False\n",
    "data.loc[data.text.str.contains(\"|\".join(phrases), na=False, case=False), 'filter'] = True"
   ]
  },
  {
   "cell_type": "code",
   "execution_count": 11,
   "id": "9d4a4ca0-4644-4cb2-9607-6efdba960d69",
   "metadata": {},
   "outputs": [],
   "source": [
    "data.to_csv(datapath + 'multisocial_v1.csv.gz', index=False)"
   ]
  },
  {
   "cell_type": "code",
   "execution_count": 12,
   "id": "ccf5264d-025d-4e40-93b7-8234a100df45",
   "metadata": {},
   "outputs": [],
   "source": [
    "filtered = data[~data['filter']].sample(frac=1., random_state = 0).reset_index(drop=True)"
   ]
  },
  {
   "cell_type": "code",
   "execution_count": 13,
   "id": "9bd99f87-71b8-4d1a-9242-02dce52a765c",
   "metadata": {},
   "outputs": [],
   "source": [
    "filtered.to_csv(datapath + 'multisocial_clean.csv.gz', index=False)"
   ]
  },
  {
   "cell_type": "code",
   "execution_count": 14,
   "id": "174f5e98-7028-4c1a-8c71-949424eb8f2f",
   "metadata": {},
   "outputs": [
    {
     "data": {
      "text/plain": [
       "1    406747\n",
       "0     57853\n",
       "Name: label, dtype: int64"
      ]
     },
     "execution_count": 14,
     "metadata": {},
     "output_type": "execute_result"
    }
   ],
   "source": [
    "filtered.label.value_counts()"
   ]
  },
  {
   "cell_type": "code",
   "execution_count": 15,
   "id": "d2c63a44-c3ac-4dae-948b-5ffafeaf3ab1",
   "metadata": {},
   "outputs": [
    {
     "data": {
      "text/plain": [
       "Mistral-7B-Instruct-v0.2    60363\n",
       "vicuna-13b                  59810\n",
       "gemini                      58792\n",
       "v5-Eagle-7B-HF              58734\n",
       "human                       57853\n",
       "gpt-3.5-turbo-0125          57825\n",
       "aya-101                     56944\n",
       "opt-iml-max-30b             54279\n",
       "Name: multi_label, dtype: int64"
      ]
     },
     "execution_count": 15,
     "metadata": {},
     "output_type": "execute_result"
    }
   ],
   "source": [
    "filtered.multi_label.value_counts()"
   ]
  },
  {
   "cell_type": "code",
   "execution_count": 16,
   "id": "fba6e469-243e-4fb2-b2e2-25a661133e5a",
   "metadata": {},
   "outputs": [
    {
     "data": {
      "text/plain": [
       "False    464600\n",
       "dtype: int64"
      ]
     },
     "execution_count": 16,
     "metadata": {},
     "output_type": "execute_result"
    }
   ],
   "source": [
    "filtered.duplicated(subset=['text'], keep=False).value_counts()"
   ]
  },
  {
   "cell_type": "code",
   "execution_count": 17,
   "id": "898d7401-b11a-4cf4-8a16-6f2dc8ae3657",
   "metadata": {},
   "outputs": [
    {
     "data": {
      "text/plain": [
       "es    49840\n",
       "en    48260\n",
       "pt    43915\n",
       "nl    40029\n",
       "de    30535\n",
       "ru    24034\n",
       "ro    23950\n",
       "pl    23658\n",
       "ar    23519\n",
       "ca    21107\n",
       "hr    20468\n",
       "hu    20449\n",
       "bg    20346\n",
       "et    19749\n",
       "cs    17114\n",
       "zh    11381\n",
       "uk    10372\n",
       "el     7449\n",
       "ga     3122\n",
       "sl     3058\n",
       "sk     2026\n",
       "gd      219\n",
       "Name: language, dtype: int64"
      ]
     },
     "execution_count": 17,
     "metadata": {},
     "output_type": "execute_result"
    }
   ],
   "source": [
    "filtered.language.value_counts()"
   ]
  },
  {
   "cell_type": "code",
   "execution_count": 18,
   "id": "8ea7b534-6900-4522-8da5-7a37079ad6ad",
   "metadata": {},
   "outputs": [
    {
     "data": {
      "text/plain": [
       "multi_label               language\n",
       "Mistral-7B-Instruct-v0.2  es          6357\n",
       "                          en          6295\n",
       "                          pt          5661\n",
       "                          nl          5178\n",
       "                          de          3914\n",
       "                                      ... \n",
       "vicuna-13b                el           968\n",
       "                          ga           457\n",
       "                          sl           389\n",
       "                          sk           260\n",
       "                          gd            32\n",
       "Name: language, Length: 176, dtype: int64"
      ]
     },
     "execution_count": 18,
     "metadata": {},
     "output_type": "execute_result"
    }
   ],
   "source": [
    "filtered.groupby(['multi_label'])['language'].value_counts()"
   ]
  },
  {
   "cell_type": "code",
   "execution_count": 19,
   "id": "2d296440-80ca-4d6e-9277-5167cfc4a6e7",
   "metadata": {},
   "outputs": [
    {
     "data": {
      "text/plain": [
       "train    325773\n",
       "test     138827\n",
       "Name: split, dtype: int64"
      ]
     },
     "execution_count": 19,
     "metadata": {},
     "output_type": "execute_result"
    }
   ],
   "source": [
    "filtered.split.value_counts()"
   ]
  },
  {
   "cell_type": "code",
   "execution_count": 20,
   "id": "ee358e0e-82aa-4bbe-b8d1-59132ac57d88",
   "metadata": {},
   "outputs": [
    {
     "data": {
      "text/plain": [
       "split  language\n",
       "test   es          11495\n",
       "       pt          11364\n",
       "       en          11116\n",
       "       nl           9504\n",
       "       de           9497\n",
       "       ro           9161\n",
       "       ru           7997\n",
       "       ar           7971\n",
       "       ca           7328\n",
       "       pl           6971\n",
       "       cs           6073\n",
       "       hr           5993\n",
       "       hu           5957\n",
       "       et           5389\n",
       "       bg           4889\n",
       "       el           3643\n",
       "       zh           3471\n",
       "       ga           3122\n",
       "       sl           3058\n",
       "       uk           2583\n",
       "       sk           2026\n",
       "       gd            219\n",
       "train  es          38345\n",
       "       en          37144\n",
       "       pt          32551\n",
       "       nl          30525\n",
       "       de          21038\n",
       "       pl          16687\n",
       "       ru          16037\n",
       "       ar          15548\n",
       "       bg          15457\n",
       "       ro          14789\n",
       "       hu          14492\n",
       "       hr          14475\n",
       "       et          14360\n",
       "       ca          13779\n",
       "       cs          11041\n",
       "       zh           7910\n",
       "       uk           7789\n",
       "       el           3806\n",
       "Name: language, dtype: int64"
      ]
     },
     "execution_count": 20,
     "metadata": {},
     "output_type": "execute_result"
    }
   ],
   "source": [
    "filtered.groupby(['split'])['language'].value_counts()"
   ]
  },
  {
   "cell_type": "code",
   "execution_count": 21,
   "id": "675d209e-17ba-4734-a339-734de010389b",
   "metadata": {},
   "outputs": [
    {
     "name": "stdout",
     "output_type": "stream",
     "text": [
      "count    57853.000000\n",
      "mean        13.433806\n",
      "std         19.404261\n",
      "min          3.000000\n",
      "25%          4.000000\n",
      "50%          7.000000\n",
      "75%         15.000000\n",
      "max        200.000000\n",
      "Name: length, dtype: float64\n",
      "count    406747.000000\n",
      "mean         25.024273\n",
      "std          31.792782\n",
      "min           3.000000\n",
      "25%           8.000000\n",
      "50%          14.000000\n",
      "75%          27.000000\n",
      "max         200.000000\n",
      "Name: length, dtype: float64\n"
     ]
    }
   ],
   "source": [
    "print(filtered[filtered.multi_label.str.contains('human')].length.describe())\n",
    "print(filtered[~filtered.multi_label.str.contains('human')].length.describe())"
   ]
  },
  {
   "cell_type": "code",
   "execution_count": 22,
   "id": "84597f31-3d11-4bb5-b528-3dec4022b4de",
   "metadata": {},
   "outputs": [
    {
     "data": {
      "text/plain": [
       "source    language\n",
       "discord   es          924\n",
       "          en          923\n",
       "          ca          855\n",
       "          hr          850\n",
       "          pt          818\n",
       "                     ... \n",
       "twitter   ru           46\n",
       "          ro            8\n",
       "whatsapp  es          999\n",
       "          en          972\n",
       "          pt          552\n",
       "Name: language, Length: 100, dtype: int64"
      ]
     },
     "execution_count": 22,
     "metadata": {},
     "output_type": "execute_result"
    }
   ],
   "source": [
    "filtered[(filtered.split=='train') & (filtered.domain=='social_media')].groupby(['source']).language.value_counts()"
   ]
  },
  {
   "cell_type": "code",
   "execution_count": 23,
   "id": "66b98ffa-fa9d-41ce-bfdd-6b96bc5063a5",
   "metadata": {},
   "outputs": [
    {
     "name": "stdout",
     "output_type": "stream",
     "text": [
      "\\begin{tabular}{lrr}\n",
      "\\toprule\n",
      "               Generator &  Train &   Test \\\\\n",
      "\\midrule\n",
      "Mistral-7B-Instruct-v0.2 &  42267 &  18096 \\\\\n",
      "                 aya-101 &  39892 &  17052 \\\\\n",
      "                  gemini &  41643 &  17149 \\\\\n",
      "      gpt-3.5-turbo-0125 &  40451 &  17374 \\\\\n",
      "         opt-iml-max-30b &  38037 &  16242 \\\\\n",
      "          v5-Eagle-7B-HF &  41116 &  17618 \\\\\n",
      "              vicuna-13b &  41881 &  17929 \\\\\n",
      "        \\textbf{machine} & 285287 & 121460 \\\\\n",
      "          \\textbf{human} &  40486 &  17367 \\\\\n",
      "\\bottomrule\n",
      "\\end{tabular}\n",
      "\n"
     ]
    },
    {
     "name": "stderr",
     "output_type": "stream",
     "text": [
      "/tmp/ipykernel_95/533955512.py:11: FutureWarning: The frame.append method is deprecated and will be removed from pandas in a future version. Use pandas.concat instead.\n",
      "  temp = temp.append(total,ignore_index=True)\n",
      "/tmp/ipykernel_95/533955512.py:13: FutureWarning: The frame.append method is deprecated and will be removed from pandas in a future version. Use pandas.concat instead.\n",
      "  temp = temp.append(human,ignore_index=True)\n",
      "/tmp/ipykernel_95/533955512.py:16: FutureWarning: In future versions `DataFrame.to_latex` is expected to utilise the base implementation of `Styler.to_latex` for formatting and rendering. The arguments signature may therefore change. It is recommended instead to use `DataFrame.style.to_latex` which also contains additional functionality.\n",
      "  print(temp.to_latex(index=False, na_rep=0, escape=False, formatters={\"text\": str.lower}, float_format=\"{:.0f}\".format))\n"
     ]
    }
   ],
   "source": [
    "temp_train = filtered[filtered.split=='train'].groupby('multi_label')['text'].count().reset_index()\n",
    "temp_test = filtered[filtered.split=='test'].groupby('multi_label')['text'].count().reset_index()\n",
    "temp = temp_train.merge(temp_test, how='outer', on=['multi_label']).sort_values(by=['multi_label'])\n",
    "temp = temp.rename(columns={'multi_label':'Generator', 'text_x':'Train', 'text_y':'Test'})\n",
    "human = temp[temp.Generator.str.contains('human')]\n",
    "machine = temp[~temp.Generator.str.contains('human')]\n",
    "#temp = pd.concat([human, machine], ignore_index=True)\n",
    "temp = machine\n",
    "total = temp.sum()\n",
    "total['Generator'] = '\\textbf{machine}'\n",
    "temp = temp.append(total,ignore_index=True)\n",
    "human['Generator'] = '\\textbf{human}'\n",
    "temp = temp.append(human,ignore_index=True)\n",
    "temp\n",
    "#with open('table.tex', 'wt') as out: temp.to_latex(buf=out, index=False, na_rep=0, escape=False, formatters={\"text\": str.lower}, float_format=\"{:.0f}\".format)\n",
    "print(temp.to_latex(index=False, na_rep=0, escape=False, formatters={\"text\": str.lower}, float_format=\"{:.0f}\".format))"
   ]
  },
  {
   "cell_type": "code",
   "execution_count": 24,
   "id": "faacdc4b-ab19-45f6-bc20-b628c9840b18",
   "metadata": {},
   "outputs": [
    {
     "data": {
      "text/plain": [
       "language\n",
       "ar    15548\n",
       "bg    15457\n",
       "ca    13779\n",
       "cs    11041\n",
       "de    21038\n",
       "el     3806\n",
       "en    37144\n",
       "es    38345\n",
       "et    14360\n",
       "hr    14475\n",
       "hu    14492\n",
       "nl    30525\n",
       "pl    16687\n",
       "pt    32551\n",
       "ro    14789\n",
       "ru    16037\n",
       "uk     7789\n",
       "zh     7910\n",
       "Name: text, dtype: int64"
      ]
     },
     "execution_count": 24,
     "metadata": {},
     "output_type": "execute_result"
    }
   ],
   "source": [
    "filtered[filtered.split=='train'].groupby('language')['text'].count()"
   ]
  },
  {
   "cell_type": "code",
   "execution_count": null,
   "id": "79d854ba-b4ac-46c2-8799-92fd97ea39d1",
   "metadata": {},
   "outputs": [],
   "source": []
  },
  {
   "cell_type": "code",
   "execution_count": 25,
   "id": "920a65c8-c82b-486c-ae0b-4942c1897cfb",
   "metadata": {},
   "outputs": [
    {
     "data": {
      "text/plain": [
       "<AxesSubplot: xlabel='length', ylabel='Density'>"
      ]
     },
     "execution_count": 25,
     "metadata": {},
     "output_type": "execute_result"
    },
    {
     "data": {
      "image/png": "[encoded data removed]",
      "text/plain": [
       "<Figure size 640x480 with 1 Axes>"
      ]
     },
     "metadata": {},
     "output_type": "display_data"
    }
   ],
   "source": [
    "sns.histplot(filtered[filtered.domain=='social_media'], x=\"length\", hue=\"label\", stat=\"density\", common_norm=False)"
   ]
  },
  {
   "cell_type": "code",
   "execution_count": 26,
   "id": "f09e7f54-c89e-4260-a44f-bc727b46ce46",
   "metadata": {},
   "outputs": [
    {
     "name": "stderr",
     "output_type": "stream",
     "text": [
      "/tmp/ipykernel_95/1795085249.py:4: FutureWarning: In a future version of pandas all arguments of DataFrame.pivot will be keyword-only.\n",
      "  temp.pivot('language','source').fillna(0).astype(int).style.apply(lambda x: [\"background: yellow\" if v >= 900 else \"background: orange\" if v >= 200 else \"\" for v in x], axis = 1)\n"
     ]
    },
    {
     "data": {
      "text/html": [
       "<style type=\"text/css\">\n",
       "#T_4e384_row0_col2, #T_4e384_row0_col3, #T_4e384_row1_col2, #T_4e384_row1_col3, #T_4e384_row2_col2, #T_4e384_row3_col2, #T_4e384_row4_col1, #T_4e384_row4_col2, #T_4e384_row6_col0, #T_4e384_row6_col1, #T_4e384_row6_col2, #T_4e384_row6_col3, #T_4e384_row6_col4, #T_4e384_row7_col0, #T_4e384_row7_col1, #T_4e384_row7_col2, #T_4e384_row7_col3, #T_4e384_row7_col4, #T_4e384_row8_col2, #T_4e384_row9_col2, #T_4e384_row10_col2, #T_4e384_row11_col1, #T_4e384_row11_col2, #T_4e384_row11_col3, #T_4e384_row12_col2, #T_4e384_row13_col1, #T_4e384_row13_col2, #T_4e384_row15_col1, #T_4e384_row15_col2, #T_4e384_row16_col2, #T_4e384_row17_col2 {\n",
       "  background: yellow;\n",
       "}\n",
       "#T_4e384_row2_col0, #T_4e384_row3_col0, #T_4e384_row4_col0, #T_4e384_row4_col3, #T_4e384_row5_col2, #T_4e384_row8_col0, #T_4e384_row9_col0, #T_4e384_row10_col0, #T_4e384_row11_col0, #T_4e384_row12_col0, #T_4e384_row12_col1, #T_4e384_row13_col0, #T_4e384_row13_col3, #T_4e384_row13_col4, #T_4e384_row14_col0, #T_4e384_row14_col2 {\n",
       "  background: orange;\n",
       "}\n",
       "</style>\n",
       "<table id=\"T_4e384\">\n",
       "  <thead>\n",
       "    <tr>\n",
       "      <th class=\"blank level0\" >&nbsp;</th>\n",
       "      <th id=\"T_4e384_level0_col0\" class=\"col_heading level0 col0\" colspan=\"5\">counts</th>\n",
       "    </tr>\n",
       "    <tr>\n",
       "      <th class=\"index_name level1\" >source</th>\n",
       "      <th id=\"T_4e384_level1_col0\" class=\"col_heading level1 col0\" >discord</th>\n",
       "      <th id=\"T_4e384_level1_col1\" class=\"col_heading level1 col1\" >gab</th>\n",
       "      <th id=\"T_4e384_level1_col2\" class=\"col_heading level1 col2\" >telegram</th>\n",
       "      <th id=\"T_4e384_level1_col3\" class=\"col_heading level1 col3\" >twitter</th>\n",
       "      <th id=\"T_4e384_level1_col4\" class=\"col_heading level1 col4\" >whatsapp</th>\n",
       "    </tr>\n",
       "    <tr>\n",
       "      <th class=\"index_name level0\" >language</th>\n",
       "      <th class=\"blank col0\" >&nbsp;</th>\n",
       "      <th class=\"blank col1\" >&nbsp;</th>\n",
       "      <th class=\"blank col2\" >&nbsp;</th>\n",
       "      <th class=\"blank col3\" >&nbsp;</th>\n",
       "      <th class=\"blank col4\" >&nbsp;</th>\n",
       "    </tr>\n",
       "  </thead>\n",
       "  <tbody>\n",
       "    <tr>\n",
       "      <th id=\"T_4e384_level0_row0\" class=\"row_heading level0 row0\" >ar</th>\n",
       "      <td id=\"T_4e384_row0_col0\" class=\"data row0 col0\" >0</td>\n",
       "      <td id=\"T_4e384_row0_col1\" class=\"data row0 col1\" >0</td>\n",
       "      <td id=\"T_4e384_row0_col2\" class=\"data row0 col2\" >967</td>\n",
       "      <td id=\"T_4e384_row0_col3\" class=\"data row0 col3\" >1000</td>\n",
       "      <td id=\"T_4e384_row0_col4\" class=\"data row0 col4\" >0</td>\n",
       "    </tr>\n",
       "    <tr>\n",
       "      <th id=\"T_4e384_level0_row1\" class=\"row_heading level0 row1\" >bg</th>\n",
       "      <td id=\"T_4e384_row1_col0\" class=\"data row1 col0\" >0</td>\n",
       "      <td id=\"T_4e384_row1_col1\" class=\"data row1 col1\" >0</td>\n",
       "      <td id=\"T_4e384_row1_col2\" class=\"data row1 col2\" >960</td>\n",
       "      <td id=\"T_4e384_row1_col3\" class=\"data row1 col3\" >1000</td>\n",
       "      <td id=\"T_4e384_row1_col4\" class=\"data row1 col4\" >0</td>\n",
       "    </tr>\n",
       "    <tr>\n",
       "      <th id=\"T_4e384_level0_row2\" class=\"row_heading level0 row2\" >ca</th>\n",
       "      <td id=\"T_4e384_row2_col0\" class=\"data row2 col0\" >855</td>\n",
       "      <td id=\"T_4e384_row2_col1\" class=\"data row2 col1\" >0</td>\n",
       "      <td id=\"T_4e384_row2_col2\" class=\"data row2 col2\" >985</td>\n",
       "      <td id=\"T_4e384_row2_col3\" class=\"data row2 col3\" >0</td>\n",
       "      <td id=\"T_4e384_row2_col4\" class=\"data row2 col4\" >0</td>\n",
       "    </tr>\n",
       "    <tr>\n",
       "      <th id=\"T_4e384_level0_row3\" class=\"row_heading level0 row3\" >cs</th>\n",
       "      <td id=\"T_4e384_row3_col0\" class=\"data row3 col0\" >329</td>\n",
       "      <td id=\"T_4e384_row3_col1\" class=\"data row3 col1\" >0</td>\n",
       "      <td id=\"T_4e384_row3_col2\" class=\"data row3 col2\" >995</td>\n",
       "      <td id=\"T_4e384_row3_col3\" class=\"data row3 col3\" >0</td>\n",
       "      <td id=\"T_4e384_row3_col4\" class=\"data row3 col4\" >0</td>\n",
       "    </tr>\n",
       "    <tr>\n",
       "      <th id=\"T_4e384_level0_row4\" class=\"row_heading level0 row4\" >de</th>\n",
       "      <td id=\"T_4e384_row4_col0\" class=\"data row4 col0\" >344</td>\n",
       "      <td id=\"T_4e384_row4_col1\" class=\"data row4 col1\" >990</td>\n",
       "      <td id=\"T_4e384_row4_col2\" class=\"data row4 col2\" >997</td>\n",
       "      <td id=\"T_4e384_row4_col3\" class=\"data row4 col3\" >269</td>\n",
       "      <td id=\"T_4e384_row4_col4\" class=\"data row4 col4\" >0</td>\n",
       "    </tr>\n",
       "    <tr>\n",
       "      <th id=\"T_4e384_level0_row5\" class=\"row_heading level0 row5\" >el</th>\n",
       "      <td id=\"T_4e384_row5_col0\" class=\"data row5 col0\" >0</td>\n",
       "      <td id=\"T_4e384_row5_col1\" class=\"data row5 col1\" >0</td>\n",
       "      <td id=\"T_4e384_row5_col2\" class=\"data row5 col2\" >485</td>\n",
       "      <td id=\"T_4e384_row5_col3\" class=\"data row5 col3\" >0</td>\n",
       "      <td id=\"T_4e384_row5_col4\" class=\"data row5 col4\" >0</td>\n",
       "    </tr>\n",
       "    <tr>\n",
       "      <th id=\"T_4e384_level0_row6\" class=\"row_heading level0 row6\" >en</th>\n",
       "      <td id=\"T_4e384_row6_col0\" class=\"data row6 col0\" >923</td>\n",
       "      <td id=\"T_4e384_row6_col1\" class=\"data row6 col1\" >947</td>\n",
       "      <td id=\"T_4e384_row6_col2\" class=\"data row6 col2\" >982</td>\n",
       "      <td id=\"T_4e384_row6_col3\" class=\"data row6 col3\" >1000</td>\n",
       "      <td id=\"T_4e384_row6_col4\" class=\"data row6 col4\" >972</td>\n",
       "    </tr>\n",
       "    <tr>\n",
       "      <th id=\"T_4e384_level0_row7\" class=\"row_heading level0 row7\" >es</th>\n",
       "      <td id=\"T_4e384_row7_col0\" class=\"data row7 col0\" >924</td>\n",
       "      <td id=\"T_4e384_row7_col1\" class=\"data row7 col1\" >996</td>\n",
       "      <td id=\"T_4e384_row7_col2\" class=\"data row7 col2\" >994</td>\n",
       "      <td id=\"T_4e384_row7_col3\" class=\"data row7 col3\" >990</td>\n",
       "      <td id=\"T_4e384_row7_col4\" class=\"data row7 col4\" >999</td>\n",
       "    </tr>\n",
       "    <tr>\n",
       "      <th id=\"T_4e384_level0_row8\" class=\"row_heading level0 row8\" >et</th>\n",
       "      <td id=\"T_4e384_row8_col0\" class=\"data row8 col0\" >593</td>\n",
       "      <td id=\"T_4e384_row8_col1\" class=\"data row8 col1\" >0</td>\n",
       "      <td id=\"T_4e384_row8_col2\" class=\"data row8 col2\" >974</td>\n",
       "      <td id=\"T_4e384_row8_col3\" class=\"data row8 col3\" >0</td>\n",
       "      <td id=\"T_4e384_row8_col4\" class=\"data row8 col4\" >0</td>\n",
       "    </tr>\n",
       "    <tr>\n",
       "      <th id=\"T_4e384_level0_row9\" class=\"row_heading level0 row9\" >hr</th>\n",
       "      <td id=\"T_4e384_row9_col0\" class=\"data row9 col0\" >850</td>\n",
       "      <td id=\"T_4e384_row9_col1\" class=\"data row9 col1\" >0</td>\n",
       "      <td id=\"T_4e384_row9_col2\" class=\"data row9 col2\" >911</td>\n",
       "      <td id=\"T_4e384_row9_col3\" class=\"data row9 col3\" >0</td>\n",
       "      <td id=\"T_4e384_row9_col4\" class=\"data row9 col4\" >0</td>\n",
       "    </tr>\n",
       "    <tr>\n",
       "      <th id=\"T_4e384_level0_row10\" class=\"row_heading level0 row10\" >hu</th>\n",
       "      <td id=\"T_4e384_row10_col0\" class=\"data row10 col0\" >695</td>\n",
       "      <td id=\"T_4e384_row10_col1\" class=\"data row10 col1\" >0</td>\n",
       "      <td id=\"T_4e384_row10_col2\" class=\"data row10 col2\" >991</td>\n",
       "      <td id=\"T_4e384_row10_col3\" class=\"data row10 col3\" >0</td>\n",
       "      <td id=\"T_4e384_row10_col4\" class=\"data row10 col4\" >0</td>\n",
       "    </tr>\n",
       "    <tr>\n",
       "      <th id=\"T_4e384_level0_row11\" class=\"row_heading level0 row11\" >nl</th>\n",
       "      <td id=\"T_4e384_row11_col0\" class=\"data row11 col0\" >746</td>\n",
       "      <td id=\"T_4e384_row11_col1\" class=\"data row11 col1\" >995</td>\n",
       "      <td id=\"T_4e384_row11_col2\" class=\"data row11 col2\" >977</td>\n",
       "      <td id=\"T_4e384_row11_col3\" class=\"data row11 col3\" >997</td>\n",
       "      <td id=\"T_4e384_row11_col4\" class=\"data row11 col4\" >0</td>\n",
       "    </tr>\n",
       "    <tr>\n",
       "      <th id=\"T_4e384_level0_row12\" class=\"row_heading level0 row12\" >pl</th>\n",
       "      <td id=\"T_4e384_row12_col0\" class=\"data row12 col0\" >655</td>\n",
       "      <td id=\"T_4e384_row12_col1\" class=\"data row12 col1\" >228</td>\n",
       "      <td id=\"T_4e384_row12_col2\" class=\"data row12 col2\" >989</td>\n",
       "      <td id=\"T_4e384_row12_col3\" class=\"data row12 col3\" >0</td>\n",
       "      <td id=\"T_4e384_row12_col4\" class=\"data row12 col4\" >0</td>\n",
       "    </tr>\n",
       "    <tr>\n",
       "      <th id=\"T_4e384_level0_row13\" class=\"row_heading level0 row13\" >pt</th>\n",
       "      <td id=\"T_4e384_row13_col0\" class=\"data row13 col0\" >818</td>\n",
       "      <td id=\"T_4e384_row13_col1\" class=\"data row13 col1\" >988</td>\n",
       "      <td id=\"T_4e384_row13_col2\" class=\"data row13 col2\" >991</td>\n",
       "      <td id=\"T_4e384_row13_col3\" class=\"data row13 col3\" >809</td>\n",
       "      <td id=\"T_4e384_row13_col4\" class=\"data row13 col4\" >552</td>\n",
       "    </tr>\n",
       "    <tr>\n",
       "      <th id=\"T_4e384_level0_row14\" class=\"row_heading level0 row14\" >ro</th>\n",
       "      <td id=\"T_4e384_row14_col0\" class=\"data row14 col0\" >805</td>\n",
       "      <td id=\"T_4e384_row14_col1\" class=\"data row14 col1\" >107</td>\n",
       "      <td id=\"T_4e384_row14_col2\" class=\"data row14 col2\" >875</td>\n",
       "      <td id=\"T_4e384_row14_col3\" class=\"data row14 col3\" >8</td>\n",
       "      <td id=\"T_4e384_row14_col4\" class=\"data row14 col4\" >0</td>\n",
       "    </tr>\n",
       "    <tr>\n",
       "      <th id=\"T_4e384_level0_row15\" class=\"row_heading level0 row15\" >ru</th>\n",
       "      <td id=\"T_4e384_row15_col0\" class=\"data row15 col0\" >0</td>\n",
       "      <td id=\"T_4e384_row15_col1\" class=\"data row15 col1\" >994</td>\n",
       "      <td id=\"T_4e384_row15_col2\" class=\"data row15 col2\" >991</td>\n",
       "      <td id=\"T_4e384_row15_col3\" class=\"data row15 col3\" >46</td>\n",
       "      <td id=\"T_4e384_row15_col4\" class=\"data row15 col4\" >0</td>\n",
       "    </tr>\n",
       "    <tr>\n",
       "      <th id=\"T_4e384_level0_row16\" class=\"row_heading level0 row16\" >uk</th>\n",
       "      <td id=\"T_4e384_row16_col0\" class=\"data row16 col0\" >0</td>\n",
       "      <td id=\"T_4e384_row16_col1\" class=\"data row16 col1\" >0</td>\n",
       "      <td id=\"T_4e384_row16_col2\" class=\"data row16 col2\" >999</td>\n",
       "      <td id=\"T_4e384_row16_col3\" class=\"data row16 col3\" >0</td>\n",
       "      <td id=\"T_4e384_row16_col4\" class=\"data row16 col4\" >0</td>\n",
       "    </tr>\n",
       "    <tr>\n",
       "      <th id=\"T_4e384_level0_row17\" class=\"row_heading level0 row17\" >zh</th>\n",
       "      <td id=\"T_4e384_row17_col0\" class=\"data row17 col0\" >0</td>\n",
       "      <td id=\"T_4e384_row17_col1\" class=\"data row17 col1\" >0</td>\n",
       "      <td id=\"T_4e384_row17_col2\" class=\"data row17 col2\" >999</td>\n",
       "      <td id=\"T_4e384_row17_col3\" class=\"data row17 col3\" >0</td>\n",
       "      <td id=\"T_4e384_row17_col4\" class=\"data row17 col4\" >0</td>\n",
       "    </tr>\n",
       "  </tbody>\n",
       "</table>\n"
      ],
      "text/plain": [
       "<pandas.io.formats.style.Styler at 0x7f5648909d90>"
      ]
     },
     "execution_count": 26,
     "metadata": {},
     "output_type": "execute_result"
    }
   ],
   "source": [
    "temp = filtered[(filtered.domain=='social_media') & (filtered.split=='train') & (filtered.multi_label=='human')].copy()\n",
    "temp['source'] = [x.replace('multisocial_', '') for x in temp['source']]\n",
    "temp = pd.DataFrame(temp[temp.domain=='social_media'].groupby(['source'])['language'].value_counts()).rename(columns={'language':'counts'}).reset_index()\n",
    "temp.pivot('language','source').fillna(0).astype(int).style.apply(lambda x: [\"background: yellow\" if v >= 900 else \"background: orange\" if v >= 200 else \"\" for v in x], axis = 1)"
   ]
  },
  {
   "cell_type": "code",
   "execution_count": 27,
   "id": "9e5a643f-1905-45dc-97f8-9d2f342e51c8",
   "metadata": {},
   "outputs": [
    {
     "name": "stderr",
     "output_type": "stream",
     "text": [
      "/tmp/ipykernel_95/3271369415.py:4: FutureWarning: In a future version of pandas all arguments of DataFrame.pivot will be keyword-only.\n",
      "  temp.pivot('language','source').fillna(0).astype(int).style.apply(lambda x: [\"background: yellow\" if v >= 900 else \"background: orange\" if v >= 200 else \"\" for v in x], axis = 1)\n"
     ]
    },
    {
     "data": {
      "text/html": [
       "<style type=\"text/css\">\n",
       "#T_c6cba_row0_col2, #T_c6cba_row0_col3, #T_c6cba_row0_col4, #T_c6cba_row1_col2, #T_c6cba_row1_col3, #T_c6cba_row2_col0, #T_c6cba_row2_col2, #T_c6cba_row2_col3, #T_c6cba_row3_col0, #T_c6cba_row3_col2, #T_c6cba_row4_col0, #T_c6cba_row4_col1, #T_c6cba_row4_col2, #T_c6cba_row4_col3, #T_c6cba_row5_col2, #T_c6cba_row6_col0, #T_c6cba_row6_col1, #T_c6cba_row6_col2, #T_c6cba_row6_col3, #T_c6cba_row6_col4, #T_c6cba_row7_col0, #T_c6cba_row7_col1, #T_c6cba_row7_col2, #T_c6cba_row7_col3, #T_c6cba_row7_col4, #T_c6cba_row8_col2, #T_c6cba_row11_col0, #T_c6cba_row11_col2, #T_c6cba_row12_col2, #T_c6cba_row13_col0, #T_c6cba_row13_col1, #T_c6cba_row13_col2, #T_c6cba_row13_col3, #T_c6cba_row14_col1, #T_c6cba_row14_col2, #T_c6cba_row15_col0, #T_c6cba_row15_col1, #T_c6cba_row15_col2, #T_c6cba_row15_col3, #T_c6cba_row15_col4, #T_c6cba_row16_col0, #T_c6cba_row16_col1, #T_c6cba_row16_col2, #T_c6cba_row16_col3, #T_c6cba_row17_col1, #T_c6cba_row17_col2, #T_c6cba_row17_col3, #T_c6cba_row19_col1, #T_c6cba_row20_col2, #T_c6cba_row21_col2 {\n",
       "  background: orange;\n",
       "}\n",
       "</style>\n",
       "<table id=\"T_c6cba\">\n",
       "  <thead>\n",
       "    <tr>\n",
       "      <th class=\"blank level0\" >&nbsp;</th>\n",
       "      <th id=\"T_c6cba_level0_col0\" class=\"col_heading level0 col0\" colspan=\"5\">counts</th>\n",
       "    </tr>\n",
       "    <tr>\n",
       "      <th class=\"index_name level1\" >source</th>\n",
       "      <th id=\"T_c6cba_level1_col0\" class=\"col_heading level1 col0\" >discord</th>\n",
       "      <th id=\"T_c6cba_level1_col1\" class=\"col_heading level1 col1\" >gab</th>\n",
       "      <th id=\"T_c6cba_level1_col2\" class=\"col_heading level1 col2\" >telegram</th>\n",
       "      <th id=\"T_c6cba_level1_col3\" class=\"col_heading level1 col3\" >twitter</th>\n",
       "      <th id=\"T_c6cba_level1_col4\" class=\"col_heading level1 col4\" >whatsapp</th>\n",
       "    </tr>\n",
       "    <tr>\n",
       "      <th class=\"index_name level0\" >language</th>\n",
       "      <th class=\"blank col0\" >&nbsp;</th>\n",
       "      <th class=\"blank col1\" >&nbsp;</th>\n",
       "      <th class=\"blank col2\" >&nbsp;</th>\n",
       "      <th class=\"blank col3\" >&nbsp;</th>\n",
       "      <th class=\"blank col4\" >&nbsp;</th>\n",
       "    </tr>\n",
       "  </thead>\n",
       "  <tbody>\n",
       "    <tr>\n",
       "      <th id=\"T_c6cba_level0_row0\" class=\"row_heading level0 row0\" >ar</th>\n",
       "      <td id=\"T_c6cba_row0_col0\" class=\"data row0 col0\" >0</td>\n",
       "      <td id=\"T_c6cba_row0_col1\" class=\"data row0 col1\" >199</td>\n",
       "      <td id=\"T_c6cba_row0_col2\" class=\"data row0 col2\" >287</td>\n",
       "      <td id=\"T_c6cba_row0_col3\" class=\"data row0 col3\" >300</td>\n",
       "      <td id=\"T_c6cba_row0_col4\" class=\"data row0 col4\" >223</td>\n",
       "    </tr>\n",
       "    <tr>\n",
       "      <th id=\"T_c6cba_level0_row1\" class=\"row_heading level0 row1\" >bg</th>\n",
       "      <td id=\"T_c6cba_row1_col0\" class=\"data row1 col0\" >0</td>\n",
       "      <td id=\"T_c6cba_row1_col1\" class=\"data row1 col1\" >24</td>\n",
       "      <td id=\"T_c6cba_row1_col2\" class=\"data row1 col2\" >299</td>\n",
       "      <td id=\"T_c6cba_row1_col3\" class=\"data row1 col3\" >300</td>\n",
       "      <td id=\"T_c6cba_row1_col4\" class=\"data row1 col4\" >0</td>\n",
       "    </tr>\n",
       "    <tr>\n",
       "      <th id=\"T_c6cba_level0_row2\" class=\"row_heading level0 row2\" >ca</th>\n",
       "      <td id=\"T_c6cba_row2_col0\" class=\"data row2 col0\" >259</td>\n",
       "      <td id=\"T_c6cba_row2_col1\" class=\"data row2 col1\" >179</td>\n",
       "      <td id=\"T_c6cba_row2_col2\" class=\"data row2 col2\" >299</td>\n",
       "      <td id=\"T_c6cba_row2_col3\" class=\"data row2 col3\" >254</td>\n",
       "      <td id=\"T_c6cba_row2_col4\" class=\"data row2 col4\" >20</td>\n",
       "    </tr>\n",
       "    <tr>\n",
       "      <th id=\"T_c6cba_level0_row3\" class=\"row_heading level0 row3\" >cs</th>\n",
       "      <td id=\"T_c6cba_row3_col0\" class=\"data row3 col0\" >204</td>\n",
       "      <td id=\"T_c6cba_row3_col1\" class=\"data row3 col1\" >64</td>\n",
       "      <td id=\"T_c6cba_row3_col2\" class=\"data row3 col2\" >296</td>\n",
       "      <td id=\"T_c6cba_row3_col3\" class=\"data row3 col3\" >129</td>\n",
       "      <td id=\"T_c6cba_row3_col4\" class=\"data row3 col4\" >17</td>\n",
       "    </tr>\n",
       "    <tr>\n",
       "      <th id=\"T_c6cba_level0_row4\" class=\"row_heading level0 row4\" >de</th>\n",
       "      <td id=\"T_c6cba_row4_col0\" class=\"data row4 col0\" >222</td>\n",
       "      <td id=\"T_c6cba_row4_col1\" class=\"data row4 col1\" >297</td>\n",
       "      <td id=\"T_c6cba_row4_col2\" class=\"data row4 col2\" >300</td>\n",
       "      <td id=\"T_c6cba_row4_col3\" class=\"data row4 col3\" >300</td>\n",
       "      <td id=\"T_c6cba_row4_col4\" class=\"data row4 col4\" >39</td>\n",
       "    </tr>\n",
       "    <tr>\n",
       "      <th id=\"T_c6cba_level0_row5\" class=\"row_heading level0 row5\" >el</th>\n",
       "      <td id=\"T_c6cba_row5_col0\" class=\"data row5 col0\" >0</td>\n",
       "      <td id=\"T_c6cba_row5_col1\" class=\"data row5 col1\" >151</td>\n",
       "      <td id=\"T_c6cba_row5_col2\" class=\"data row5 col2\" >288</td>\n",
       "      <td id=\"T_c6cba_row5_col3\" class=\"data row5 col3\" >19</td>\n",
       "      <td id=\"T_c6cba_row5_col4\" class=\"data row5 col4\" >4</td>\n",
       "    </tr>\n",
       "    <tr>\n",
       "      <th id=\"T_c6cba_level0_row6\" class=\"row_heading level0 row6\" >en</th>\n",
       "      <td id=\"T_c6cba_row6_col0\" class=\"data row6 col0\" >284</td>\n",
       "      <td id=\"T_c6cba_row6_col1\" class=\"data row6 col1\" >293</td>\n",
       "      <td id=\"T_c6cba_row6_col2\" class=\"data row6 col2\" >296</td>\n",
       "      <td id=\"T_c6cba_row6_col3\" class=\"data row6 col3\" >300</td>\n",
       "      <td id=\"T_c6cba_row6_col4\" class=\"data row6 col4\" >289</td>\n",
       "    </tr>\n",
       "    <tr>\n",
       "      <th id=\"T_c6cba_level0_row7\" class=\"row_heading level0 row7\" >es</th>\n",
       "      <td id=\"T_c6cba_row7_col0\" class=\"data row7 col0\" >276</td>\n",
       "      <td id=\"T_c6cba_row7_col1\" class=\"data row7 col1\" >299</td>\n",
       "      <td id=\"T_c6cba_row7_col2\" class=\"data row7 col2\" >300</td>\n",
       "      <td id=\"T_c6cba_row7_col3\" class=\"data row7 col3\" >300</td>\n",
       "      <td id=\"T_c6cba_row7_col4\" class=\"data row7 col4\" >300</td>\n",
       "    </tr>\n",
       "    <tr>\n",
       "      <th id=\"T_c6cba_level0_row8\" class=\"row_heading level0 row8\" >et</th>\n",
       "      <td id=\"T_c6cba_row8_col0\" class=\"data row8 col0\" >171</td>\n",
       "      <td id=\"T_c6cba_row8_col1\" class=\"data row8 col1\" >104</td>\n",
       "      <td id=\"T_c6cba_row8_col2\" class=\"data row8 col2\" >291</td>\n",
       "      <td id=\"T_c6cba_row8_col3\" class=\"data row8 col3\" >21</td>\n",
       "      <td id=\"T_c6cba_row8_col4\" class=\"data row8 col4\" >16</td>\n",
       "    </tr>\n",
       "    <tr>\n",
       "      <th id=\"T_c6cba_level0_row9\" class=\"row_heading level0 row9\" >ga</th>\n",
       "      <td id=\"T_c6cba_row9_col0\" class=\"data row9 col0\" >140</td>\n",
       "      <td id=\"T_c6cba_row9_col1\" class=\"data row9 col1\" >138</td>\n",
       "      <td id=\"T_c6cba_row9_col2\" class=\"data row9 col2\" >118</td>\n",
       "      <td id=\"T_c6cba_row9_col3\" class=\"data row9 col3\" >6</td>\n",
       "      <td id=\"T_c6cba_row9_col4\" class=\"data row9 col4\" >0</td>\n",
       "    </tr>\n",
       "    <tr>\n",
       "      <th id=\"T_c6cba_level0_row10\" class=\"row_heading level0 row10\" >gd</th>\n",
       "      <td id=\"T_c6cba_row10_col0\" class=\"data row10 col0\" >21</td>\n",
       "      <td id=\"T_c6cba_row10_col1\" class=\"data row10 col1\" >5</td>\n",
       "      <td id=\"T_c6cba_row10_col2\" class=\"data row10 col2\" >5</td>\n",
       "      <td id=\"T_c6cba_row10_col3\" class=\"data row10 col3\" >0</td>\n",
       "      <td id=\"T_c6cba_row10_col4\" class=\"data row10 col4\" >0</td>\n",
       "    </tr>\n",
       "    <tr>\n",
       "      <th id=\"T_c6cba_level0_row11\" class=\"row_heading level0 row11\" >hr</th>\n",
       "      <td id=\"T_c6cba_row11_col0\" class=\"data row11 col0\" >258</td>\n",
       "      <td id=\"T_c6cba_row11_col1\" class=\"data row11 col1\" >170</td>\n",
       "      <td id=\"T_c6cba_row11_col2\" class=\"data row11 col2\" >299</td>\n",
       "      <td id=\"T_c6cba_row11_col3\" class=\"data row11 col3\" >12</td>\n",
       "      <td id=\"T_c6cba_row11_col4\" class=\"data row11 col4\" >5</td>\n",
       "    </tr>\n",
       "    <tr>\n",
       "      <th id=\"T_c6cba_level0_row12\" class=\"row_heading level0 row12\" >hu</th>\n",
       "      <td id=\"T_c6cba_row12_col0\" class=\"data row12 col0\" >184</td>\n",
       "      <td id=\"T_c6cba_row12_col1\" class=\"data row12 col1\" >150</td>\n",
       "      <td id=\"T_c6cba_row12_col2\" class=\"data row12 col2\" >297</td>\n",
       "      <td id=\"T_c6cba_row12_col3\" class=\"data row12 col3\" >54</td>\n",
       "      <td id=\"T_c6cba_row12_col4\" class=\"data row12 col4\" >3</td>\n",
       "    </tr>\n",
       "    <tr>\n",
       "      <th id=\"T_c6cba_level0_row13\" class=\"row_heading level0 row13\" >nl</th>\n",
       "      <td id=\"T_c6cba_row13_col0\" class=\"data row13 col0\" >211</td>\n",
       "      <td id=\"T_c6cba_row13_col1\" class=\"data row13 col1\" >298</td>\n",
       "      <td id=\"T_c6cba_row13_col2\" class=\"data row13 col2\" >296</td>\n",
       "      <td id=\"T_c6cba_row13_col3\" class=\"data row13 col3\" >299</td>\n",
       "      <td id=\"T_c6cba_row13_col4\" class=\"data row13 col4\" >51</td>\n",
       "    </tr>\n",
       "    <tr>\n",
       "      <th id=\"T_c6cba_level0_row14\" class=\"row_heading level0 row14\" >pl</th>\n",
       "      <td id=\"T_c6cba_row14_col0\" class=\"data row14 col0\" >196</td>\n",
       "      <td id=\"T_c6cba_row14_col1\" class=\"data row14 col1\" >285</td>\n",
       "      <td id=\"T_c6cba_row14_col2\" class=\"data row14 col2\" >297</td>\n",
       "      <td id=\"T_c6cba_row14_col3\" class=\"data row14 col3\" >22</td>\n",
       "      <td id=\"T_c6cba_row14_col4\" class=\"data row14 col4\" >8</td>\n",
       "    </tr>\n",
       "    <tr>\n",
       "      <th id=\"T_c6cba_level0_row15\" class=\"row_heading level0 row15\" >pt</th>\n",
       "      <td id=\"T_c6cba_row15_col0\" class=\"data row15 col0\" >270</td>\n",
       "      <td id=\"T_c6cba_row15_col1\" class=\"data row15 col1\" >297</td>\n",
       "      <td id=\"T_c6cba_row15_col2\" class=\"data row15 col2\" >298</td>\n",
       "      <td id=\"T_c6cba_row15_col3\" class=\"data row15 col3\" >294</td>\n",
       "      <td id=\"T_c6cba_row15_col4\" class=\"data row15 col4\" >298</td>\n",
       "    </tr>\n",
       "    <tr>\n",
       "      <th id=\"T_c6cba_level0_row16\" class=\"row_heading level0 row16\" >ro</th>\n",
       "      <td id=\"T_c6cba_row16_col0\" class=\"data row16 col0\" >244</td>\n",
       "      <td id=\"T_c6cba_row16_col1\" class=\"data row16 col1\" >296</td>\n",
       "      <td id=\"T_c6cba_row16_col2\" class=\"data row16 col2\" >298</td>\n",
       "      <td id=\"T_c6cba_row16_col3\" class=\"data row16 col3\" >300</td>\n",
       "      <td id=\"T_c6cba_row16_col4\" class=\"data row16 col4\" >17</td>\n",
       "    </tr>\n",
       "    <tr>\n",
       "      <th id=\"T_c6cba_level0_row17\" class=\"row_heading level0 row17\" >ru</th>\n",
       "      <td id=\"T_c6cba_row17_col0\" class=\"data row17 col0\" >0</td>\n",
       "      <td id=\"T_c6cba_row17_col1\" class=\"data row17 col1\" >299</td>\n",
       "      <td id=\"T_c6cba_row17_col2\" class=\"data row17 col2\" >298</td>\n",
       "      <td id=\"T_c6cba_row17_col3\" class=\"data row17 col3\" >300</td>\n",
       "      <td id=\"T_c6cba_row17_col4\" class=\"data row17 col4\" >123</td>\n",
       "    </tr>\n",
       "    <tr>\n",
       "      <th id=\"T_c6cba_level0_row18\" class=\"row_heading level0 row18\" >sk</th>\n",
       "      <td id=\"T_c6cba_row18_col0\" class=\"data row18 col0\" >13</td>\n",
       "      <td id=\"T_c6cba_row18_col1\" class=\"data row18 col1\" >38</td>\n",
       "      <td id=\"T_c6cba_row18_col2\" class=\"data row18 col2\" >192</td>\n",
       "      <td id=\"T_c6cba_row18_col3\" class=\"data row18 col3\" >14</td>\n",
       "      <td id=\"T_c6cba_row18_col4\" class=\"data row18 col4\" >0</td>\n",
       "    </tr>\n",
       "    <tr>\n",
       "      <th id=\"T_c6cba_level0_row19\" class=\"row_heading level0 row19\" >sl</th>\n",
       "      <td id=\"T_c6cba_row19_col0\" class=\"data row19 col0\" >6</td>\n",
       "      <td id=\"T_c6cba_row19_col1\" class=\"data row19 col1\" >242</td>\n",
       "      <td id=\"T_c6cba_row19_col2\" class=\"data row19 col2\" >117</td>\n",
       "      <td id=\"T_c6cba_row19_col3\" class=\"data row19 col3\" >5</td>\n",
       "      <td id=\"T_c6cba_row19_col4\" class=\"data row19 col4\" >0</td>\n",
       "    </tr>\n",
       "    <tr>\n",
       "      <th id=\"T_c6cba_level0_row20\" class=\"row_heading level0 row20\" >uk</th>\n",
       "      <td id=\"T_c6cba_row20_col0\" class=\"data row20 col0\" >0</td>\n",
       "      <td id=\"T_c6cba_row20_col1\" class=\"data row20 col1\" >22</td>\n",
       "      <td id=\"T_c6cba_row20_col2\" class=\"data row20 col2\" >300</td>\n",
       "      <td id=\"T_c6cba_row20_col3\" class=\"data row20 col3\" >9</td>\n",
       "      <td id=\"T_c6cba_row20_col4\" class=\"data row20 col4\" >0</td>\n",
       "    </tr>\n",
       "    <tr>\n",
       "      <th id=\"T_c6cba_level0_row21\" class=\"row_heading level0 row21\" >zh</th>\n",
       "      <td id=\"T_c6cba_row21_col0\" class=\"data row21 col0\" >0</td>\n",
       "      <td id=\"T_c6cba_row21_col1\" class=\"data row21 col1\" >103</td>\n",
       "      <td id=\"T_c6cba_row21_col2\" class=\"data row21 col2\" >299</td>\n",
       "      <td id=\"T_c6cba_row21_col3\" class=\"data row21 col3\" >30</td>\n",
       "      <td id=\"T_c6cba_row21_col4\" class=\"data row21 col4\" >4</td>\n",
       "    </tr>\n",
       "  </tbody>\n",
       "</table>\n"
      ],
      "text/plain": [
       "<pandas.io.formats.style.Styler at 0x7f5671e53e20>"
      ]
     },
     "execution_count": 27,
     "metadata": {},
     "output_type": "execute_result"
    }
   ],
   "source": [
    "temp = filtered[(filtered.domain=='social_media') & (filtered.split=='test') & (filtered.multi_label=='human')].copy()\n",
    "temp['source'] = [x.replace('multisocial_', '') for x in temp['source']]\n",
    "temp = pd.DataFrame(temp[temp.domain=='social_media'].groupby(['source'])['language'].value_counts()).rename(columns={'language':'counts'}).reset_index()\n",
    "temp.pivot('language','source').fillna(0).astype(int).style.apply(lambda x: [\"background: yellow\" if v >= 900 else \"background: orange\" if v >= 200 else \"\" for v in x], axis = 1)"
   ]
  },
  {
   "cell_type": "code",
   "execution_count": null,
   "id": "e253ec48-3497-4c86-9948-3bec2bc1b006",
   "metadata": {},
   "outputs": [],
   "source": []
  }
 ],
 "metadata": {
  "kernelspec": {
   "display_name": "MGTBench",
   "language": "python",
   "name": "mgtbench"
  },
  "language_info": {
   "codemirror_mode": {
    "name": "ipython",
    "version": 3
   },
   "file_extension": ".py",
   "mimetype": "text/x-python",
   "name": "python",
   "nbconvert_exporter": "python",
   "pygments_lexer": "ipython3",
   "version": "3.8.16"
  }
 },
 "nbformat": 4,
 "nbformat_minor": 5
}
